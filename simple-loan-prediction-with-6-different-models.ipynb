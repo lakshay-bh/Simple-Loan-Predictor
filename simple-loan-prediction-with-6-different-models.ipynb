{
 "cells": [
  {
   "cell_type": "markdown",
   "id": "ebc2a9d5",
   "metadata": {
    "papermill": {
     "duration": 0.096496,
     "end_time": "2022-07-01T13:22:55.260155",
     "exception": false,
     "start_time": "2022-07-01T13:22:55.163659",
     "status": "completed"
    },
    "tags": []
   },
   "source": [
    "# Problem Description\n",
    "\n",
    "Company wants to automate the loan eligibility process (real time) based on customer detail provided while filling online application form. These details are Gender, Marital Status, Education, Number of Dependents, Income, Loan Amount, Credit History and others. To automate this process, they have given a problem to identify the customers segments, those are eligible for loan amount so that they can specifically target these customers. Here they have provided a partial data set.\n"
   ]
  },
  {
   "cell_type": "markdown",
   "id": "fa83c47d",
   "metadata": {
    "papermill": {
     "duration": 0.090677,
     "end_time": "2022-07-01T13:22:55.442810",
     "exception": false,
     "start_time": "2022-07-01T13:22:55.352133",
     "status": "completed"
    },
    "tags": []
   },
   "source": [
    "# Importing Libraries"
   ]
  },
  {
   "cell_type": "code",
   "execution_count": null,
   "id": "e27d91f6",
   "metadata": {
    "execution": {
     "iopub.execute_input": "2022-07-01T13:22:55.634246Z",
     "iopub.status.busy": "2022-07-01T13:22:55.633028Z",
     "iopub.status.idle": "2022-07-01T13:22:56.848406Z",
     "shell.execute_reply": "2022-07-01T13:22:56.848950Z",
     "shell.execute_reply.started": "2022-07-01T05:41:17.923073Z"
    },
    "papermill": {
     "duration": 1.315676,
     "end_time": "2022-07-01T13:22:56.849324",
     "exception": false,
     "start_time": "2022-07-01T13:22:55.533648",
     "status": "completed"
    },
    "tags": []
   },
   "outputs": [],
   "source": [
    "import  numpy as np\n",
    "import  pandas as pd\n",
    "import seaborn as sns\n",
    "import matplotlib.pyplot as plt\n",
    "%matplotlib inline"
   ]
  },
  {
   "cell_type": "code",
   "execution_count": null,
   "id": "a4bbb69b",
   "metadata": {
    "execution": {
     "iopub.execute_input": "2022-07-01T13:22:57.045267Z",
     "iopub.status.busy": "2022-07-01T13:22:57.044109Z",
     "iopub.status.idle": "2022-07-01T13:22:57.563216Z",
     "shell.execute_reply": "2022-07-01T13:22:57.562407Z",
     "shell.execute_reply.started": "2022-07-01T05:41:19.185688Z"
    },
    "papermill": {
     "duration": 0.616647,
     "end_time": "2022-07-01T13:22:57.563393",
     "exception": false,
     "start_time": "2022-07-01T13:22:56.946746",
     "status": "completed"
    },
    "scrolled": true,
    "tags": []
   },
   "outputs": [],
   "source": [
    "from sklearn.model_selection import train_test_split\n",
    "from sklearn import feature_selection\n",
    "from sklearn import model_selection\n",
    "from sklearn.metrics import accuracy_score \n",
    "from sklearn.linear_model import LogisticRegression\n",
    "from sklearn.svm import SVC\n",
    "from sklearn.naive_bayes import GaussianNB\n",
    "from sklearn.ensemble import RandomForestClassifier,GradientBoostingClassifier\n",
    "from sklearn.neighbors import KNeighborsClassifier\n",
    "\n",
    "import warnings\n",
    "warnings.filterwarnings('ignore')"
   ]
  },
  {
   "cell_type": "markdown",
   "id": "c1f0bcbf",
   "metadata": {
    "papermill": {
     "duration": 0.092414,
     "end_time": "2022-07-01T13:22:57.756619",
     "exception": false,
     "start_time": "2022-07-01T13:22:57.664205",
     "status": "completed"
    },
    "tags": []
   },
   "source": [
    "# Importing data "
   ]
  },
  {
   "cell_type": "code",
   "execution_count": null,
   "id": "a049779e",
   "metadata": {
    "execution": {
     "iopub.execute_input": "2022-07-01T13:22:57.954040Z",
     "iopub.status.busy": "2022-07-01T13:22:57.953258Z",
     "iopub.status.idle": "2022-07-01T13:22:57.982983Z",
     "shell.execute_reply": "2022-07-01T13:22:57.982388Z",
     "shell.execute_reply.started": "2022-07-01T05:41:19.67813Z"
    },
    "papermill": {
     "duration": 0.128922,
     "end_time": "2022-07-01T13:22:57.983163",
     "exception": false,
     "start_time": "2022-07-01T13:22:57.854241",
     "status": "completed"
    },
    "tags": []
   },
   "outputs": [],
   "source": [
    "train = pd.read_csv('../input/loan-prediction-problem-dataset/train_u6lujuX_CVtuZ9i.csv')\n",
    "test = pd.read_csv('../input/loan-prediction-problem-dataset/test_Y3wMUE5_7gLdaTN.csv')"
   ]
  },
  {
   "cell_type": "code",
   "execution_count": null,
   "id": "2c8f9def",
   "metadata": {
    "execution": {
     "iopub.execute_input": "2022-07-01T13:22:58.183878Z",
     "iopub.status.busy": "2022-07-01T13:22:58.183074Z",
     "iopub.status.idle": "2022-07-01T13:22:58.187393Z",
     "shell.execute_reply": "2022-07-01T13:22:58.188009Z",
     "shell.execute_reply.started": "2022-07-01T05:41:19.73289Z"
    },
    "papermill": {
     "duration": 0.106139,
     "end_time": "2022-07-01T13:22:58.188215",
     "exception": false,
     "start_time": "2022-07-01T13:22:58.082076",
     "status": "completed"
    },
    "tags": []
   },
   "outputs": [
    {
     "name": "stdout",
     "output_type": "stream",
     "text": [
      "(614, 13) (367, 12)\n"
     ]
    }
   ],
   "source": [
    "print (train.shape, test.shape)"
   ]
  },
  {
   "cell_type": "markdown",
   "id": "b22e3596",
   "metadata": {
    "papermill": {
     "duration": 0.090106,
     "end_time": "2022-07-01T13:22:58.377518",
     "exception": false,
     "start_time": "2022-07-01T13:22:58.287412",
     "status": "completed"
    },
    "tags": []
   },
   "source": [
    "# EDA & Data-Preprocessing"
   ]
  },
  {
   "cell_type": "markdown",
   "id": "d2ea9094",
   "metadata": {
    "papermill": {
     "duration": 0.092191,
     "end_time": "2022-07-01T13:22:58.560585",
     "exception": false,
     "start_time": "2022-07-01T13:22:58.468394",
     "status": "completed"
    },
    "tags": []
   },
   "source": [
    "### Viewing the train dataset"
   ]
  },
  {
   "cell_type": "code",
   "execution_count": null,
   "id": "2358dc4e",
   "metadata": {
    "execution": {
     "iopub.execute_input": "2022-07-01T13:22:58.754252Z",
     "iopub.status.busy": "2022-07-01T13:22:58.753216Z",
     "iopub.status.idle": "2022-07-01T13:22:58.779420Z",
     "shell.execute_reply": "2022-07-01T13:22:58.779943Z",
     "shell.execute_reply.started": "2022-07-01T05:41:19.744493Z"
    },
    "papermill": {
     "duration": 0.128314,
     "end_time": "2022-07-01T13:22:58.780127",
     "exception": false,
     "start_time": "2022-07-01T13:22:58.651813",
     "status": "completed"
    },
    "tags": []
   },
   "outputs": [
    {
     "data": {
      "text/html": [
       "<div>\n",
       "<style scoped>\n",
       "    .dataframe tbody tr th:only-of-type {\n",
       "        vertical-align: middle;\n",
       "    }\n",
       "\n",
       "    .dataframe tbody tr th {\n",
       "        vertical-align: top;\n",
       "    }\n",
       "\n",
       "    .dataframe thead th {\n",
       "        text-align: right;\n",
       "    }\n",
       "</style>\n",
       "<table border=\"1\" class=\"dataframe\">\n",
       "  <thead>\n",
       "    <tr style=\"text-align: right;\">\n",
       "      <th></th>\n",
       "      <th>Loan_ID</th>\n",
       "      <th>Gender</th>\n",
       "      <th>Married</th>\n",
       "      <th>Dependents</th>\n",
       "      <th>Education</th>\n",
       "      <th>Self_Employed</th>\n",
       "      <th>ApplicantIncome</th>\n",
       "      <th>CoapplicantIncome</th>\n",
       "      <th>LoanAmount</th>\n",
       "      <th>Loan_Amount_Term</th>\n",
       "      <th>Credit_History</th>\n",
       "      <th>Property_Area</th>\n",
       "      <th>Loan_Status</th>\n",
       "    </tr>\n",
       "  </thead>\n",
       "  <tbody>\n",
       "    <tr>\n",
       "      <th>0</th>\n",
       "      <td>LP001002</td>\n",
       "      <td>Male</td>\n",
       "      <td>No</td>\n",
       "      <td>0</td>\n",
       "      <td>Graduate</td>\n",
       "      <td>No</td>\n",
       "      <td>5849</td>\n",
       "      <td>0.0</td>\n",
       "      <td>NaN</td>\n",
       "      <td>360.0</td>\n",
       "      <td>1.0</td>\n",
       "      <td>Urban</td>\n",
       "      <td>Y</td>\n",
       "    </tr>\n",
       "    <tr>\n",
       "      <th>1</th>\n",
       "      <td>LP001003</td>\n",
       "      <td>Male</td>\n",
       "      <td>Yes</td>\n",
       "      <td>1</td>\n",
       "      <td>Graduate</td>\n",
       "      <td>No</td>\n",
       "      <td>4583</td>\n",
       "      <td>1508.0</td>\n",
       "      <td>128.0</td>\n",
       "      <td>360.0</td>\n",
       "      <td>1.0</td>\n",
       "      <td>Rural</td>\n",
       "      <td>N</td>\n",
       "    </tr>\n",
       "    <tr>\n",
       "      <th>2</th>\n",
       "      <td>LP001005</td>\n",
       "      <td>Male</td>\n",
       "      <td>Yes</td>\n",
       "      <td>0</td>\n",
       "      <td>Graduate</td>\n",
       "      <td>Yes</td>\n",
       "      <td>3000</td>\n",
       "      <td>0.0</td>\n",
       "      <td>66.0</td>\n",
       "      <td>360.0</td>\n",
       "      <td>1.0</td>\n",
       "      <td>Urban</td>\n",
       "      <td>Y</td>\n",
       "    </tr>\n",
       "    <tr>\n",
       "      <th>3</th>\n",
       "      <td>LP001006</td>\n",
       "      <td>Male</td>\n",
       "      <td>Yes</td>\n",
       "      <td>0</td>\n",
       "      <td>Not Graduate</td>\n",
       "      <td>No</td>\n",
       "      <td>2583</td>\n",
       "      <td>2358.0</td>\n",
       "      <td>120.0</td>\n",
       "      <td>360.0</td>\n",
       "      <td>1.0</td>\n",
       "      <td>Urban</td>\n",
       "      <td>Y</td>\n",
       "    </tr>\n",
       "    <tr>\n",
       "      <th>4</th>\n",
       "      <td>LP001008</td>\n",
       "      <td>Male</td>\n",
       "      <td>No</td>\n",
       "      <td>0</td>\n",
       "      <td>Graduate</td>\n",
       "      <td>No</td>\n",
       "      <td>6000</td>\n",
       "      <td>0.0</td>\n",
       "      <td>141.0</td>\n",
       "      <td>360.0</td>\n",
       "      <td>1.0</td>\n",
       "      <td>Urban</td>\n",
       "      <td>Y</td>\n",
       "    </tr>\n",
       "  </tbody>\n",
       "</table>\n",
       "</div>"
      ],
      "text/plain": [
       "    Loan_ID Gender Married Dependents     Education Self_Employed  \\\n",
       "0  LP001002   Male      No          0      Graduate            No   \n",
       "1  LP001003   Male     Yes          1      Graduate            No   \n",
       "2  LP001005   Male     Yes          0      Graduate           Yes   \n",
       "3  LP001006   Male     Yes          0  Not Graduate            No   \n",
       "4  LP001008   Male      No          0      Graduate            No   \n",
       "\n",
       "   ApplicantIncome  CoapplicantIncome  LoanAmount  Loan_Amount_Term  \\\n",
       "0             5849                0.0         NaN             360.0   \n",
       "1             4583             1508.0       128.0             360.0   \n",
       "2             3000                0.0        66.0             360.0   \n",
       "3             2583             2358.0       120.0             360.0   \n",
       "4             6000                0.0       141.0             360.0   \n",
       "\n",
       "   Credit_History Property_Area Loan_Status  \n",
       "0             1.0         Urban           Y  \n",
       "1             1.0         Rural           N  \n",
       "2             1.0         Urban           Y  \n",
       "3             1.0         Urban           Y  \n",
       "4             1.0         Urban           Y  "
      ]
     },
     "execution_count": 5,
     "metadata": {},
     "output_type": "execute_result"
    }
   ],
   "source": [
    "train.head() "
   ]
  },
  {
   "cell_type": "code",
   "execution_count": null,
   "id": "19219453",
   "metadata": {
    "execution": {
     "iopub.execute_input": "2022-07-01T13:22:58.967240Z",
     "iopub.status.busy": "2022-07-01T13:22:58.966576Z",
     "iopub.status.idle": "2022-07-01T13:22:58.993951Z",
     "shell.execute_reply": "2022-07-01T13:22:58.994489Z",
     "shell.execute_reply.started": "2022-07-01T05:41:19.795609Z"
    },
    "papermill": {
     "duration": 0.122015,
     "end_time": "2022-07-01T13:22:58.994683",
     "exception": false,
     "start_time": "2022-07-01T13:22:58.872668",
     "status": "completed"
    },
    "tags": []
   },
   "outputs": [
    {
     "name": "stdout",
     "output_type": "stream",
     "text": [
      "<class 'pandas.core.frame.DataFrame'>\n",
      "RangeIndex: 614 entries, 0 to 613\n",
      "Data columns (total 13 columns):\n",
      " #   Column             Non-Null Count  Dtype  \n",
      "---  ------             --------------  -----  \n",
      " 0   Loan_ID            614 non-null    object \n",
      " 1   Gender             601 non-null    object \n",
      " 2   Married            611 non-null    object \n",
      " 3   Dependents         599 non-null    object \n",
      " 4   Education          614 non-null    object \n",
      " 5   Self_Employed      582 non-null    object \n",
      " 6   ApplicantIncome    614 non-null    int64  \n",
      " 7   CoapplicantIncome  614 non-null    float64\n",
      " 8   LoanAmount         592 non-null    float64\n",
      " 9   Loan_Amount_Term   600 non-null    float64\n",
      " 10  Credit_History     564 non-null    float64\n",
      " 11  Property_Area      614 non-null    object \n",
      " 12  Loan_Status        614 non-null    object \n",
      "dtypes: float64(4), int64(1), object(8)\n",
      "memory usage: 62.5+ KB\n"
     ]
    }
   ],
   "source": [
    "train.info() "
   ]
  },
  {
   "cell_type": "markdown",
   "id": "2865ee07",
   "metadata": {
    "papermill": {
     "duration": 0.091609,
     "end_time": "2022-07-01T13:22:59.183875",
     "exception": false,
     "start_time": "2022-07-01T13:22:59.092266",
     "status": "completed"
    },
    "tags": []
   },
   "source": [
    "### Viewing no of null data in each feature of the train dataset"
   ]
  },
  {
   "cell_type": "code",
   "execution_count": null,
   "id": "ca6775e1",
   "metadata": {
    "execution": {
     "iopub.execute_input": "2022-07-01T13:22:59.374572Z",
     "iopub.status.busy": "2022-07-01T13:22:59.373595Z",
     "iopub.status.idle": "2022-07-01T13:22:59.382595Z",
     "shell.execute_reply": "2022-07-01T13:22:59.383164Z",
     "shell.execute_reply.started": "2022-07-01T05:41:19.825182Z"
    },
    "papermill": {
     "duration": 0.107077,
     "end_time": "2022-07-01T13:22:59.383353",
     "exception": false,
     "start_time": "2022-07-01T13:22:59.276276",
     "status": "completed"
    },
    "scrolled": true,
    "tags": []
   },
   "outputs": [
    {
     "data": {
      "text/plain": [
       "Loan_ID               0\n",
       "Gender               13\n",
       "Married               3\n",
       "Dependents           15\n",
       "Education             0\n",
       "Self_Employed        32\n",
       "ApplicantIncome       0\n",
       "CoapplicantIncome     0\n",
       "LoanAmount           22\n",
       "Loan_Amount_Term     14\n",
       "Credit_History       50\n",
       "Property_Area         0\n",
       "Loan_Status           0\n",
       "dtype: int64"
      ]
     },
     "execution_count": 7,
     "metadata": {},
     "output_type": "execute_result"
    }
   ],
   "source": [
    "train.isnull().sum()"
   ]
  },
  {
   "cell_type": "markdown",
   "id": "8089324e",
   "metadata": {
    "papermill": {
     "duration": 0.093405,
     "end_time": "2022-07-01T13:22:59.568217",
     "exception": false,
     "start_time": "2022-07-01T13:22:59.474812",
     "status": "completed"
    },
    "tags": []
   },
   "source": [
    "### Viewing the test dataset"
   ]
  },
  {
   "cell_type": "code",
   "execution_count": null,
   "id": "81104721",
   "metadata": {
    "execution": {
     "iopub.execute_input": "2022-07-01T13:22:59.758399Z",
     "iopub.status.busy": "2022-07-01T13:22:59.757402Z",
     "iopub.status.idle": "2022-07-01T13:22:59.774460Z",
     "shell.execute_reply": "2022-07-01T13:22:59.775122Z",
     "shell.execute_reply.started": "2022-07-01T05:41:19.837504Z"
    },
    "papermill": {
     "duration": 0.11262,
     "end_time": "2022-07-01T13:22:59.775315",
     "exception": false,
     "start_time": "2022-07-01T13:22:59.662695",
     "status": "completed"
    },
    "tags": []
   },
   "outputs": [
    {
     "data": {
      "text/html": [
       "<div>\n",
       "<style scoped>\n",
       "    .dataframe tbody tr th:only-of-type {\n",
       "        vertical-align: middle;\n",
       "    }\n",
       "\n",
       "    .dataframe tbody tr th {\n",
       "        vertical-align: top;\n",
       "    }\n",
       "\n",
       "    .dataframe thead th {\n",
       "        text-align: right;\n",
       "    }\n",
       "</style>\n",
       "<table border=\"1\" class=\"dataframe\">\n",
       "  <thead>\n",
       "    <tr style=\"text-align: right;\">\n",
       "      <th></th>\n",
       "      <th>Loan_ID</th>\n",
       "      <th>Gender</th>\n",
       "      <th>Married</th>\n",
       "      <th>Dependents</th>\n",
       "      <th>Education</th>\n",
       "      <th>Self_Employed</th>\n",
       "      <th>ApplicantIncome</th>\n",
       "      <th>CoapplicantIncome</th>\n",
       "      <th>LoanAmount</th>\n",
       "      <th>Loan_Amount_Term</th>\n",
       "      <th>Credit_History</th>\n",
       "      <th>Property_Area</th>\n",
       "    </tr>\n",
       "  </thead>\n",
       "  <tbody>\n",
       "    <tr>\n",
       "      <th>0</th>\n",
       "      <td>LP001015</td>\n",
       "      <td>Male</td>\n",
       "      <td>Yes</td>\n",
       "      <td>0</td>\n",
       "      <td>Graduate</td>\n",
       "      <td>No</td>\n",
       "      <td>5720</td>\n",
       "      <td>0</td>\n",
       "      <td>110.0</td>\n",
       "      <td>360.0</td>\n",
       "      <td>1.0</td>\n",
       "      <td>Urban</td>\n",
       "    </tr>\n",
       "    <tr>\n",
       "      <th>1</th>\n",
       "      <td>LP001022</td>\n",
       "      <td>Male</td>\n",
       "      <td>Yes</td>\n",
       "      <td>1</td>\n",
       "      <td>Graduate</td>\n",
       "      <td>No</td>\n",
       "      <td>3076</td>\n",
       "      <td>1500</td>\n",
       "      <td>126.0</td>\n",
       "      <td>360.0</td>\n",
       "      <td>1.0</td>\n",
       "      <td>Urban</td>\n",
       "    </tr>\n",
       "    <tr>\n",
       "      <th>2</th>\n",
       "      <td>LP001031</td>\n",
       "      <td>Male</td>\n",
       "      <td>Yes</td>\n",
       "      <td>2</td>\n",
       "      <td>Graduate</td>\n",
       "      <td>No</td>\n",
       "      <td>5000</td>\n",
       "      <td>1800</td>\n",
       "      <td>208.0</td>\n",
       "      <td>360.0</td>\n",
       "      <td>1.0</td>\n",
       "      <td>Urban</td>\n",
       "    </tr>\n",
       "    <tr>\n",
       "      <th>3</th>\n",
       "      <td>LP001035</td>\n",
       "      <td>Male</td>\n",
       "      <td>Yes</td>\n",
       "      <td>2</td>\n",
       "      <td>Graduate</td>\n",
       "      <td>No</td>\n",
       "      <td>2340</td>\n",
       "      <td>2546</td>\n",
       "      <td>100.0</td>\n",
       "      <td>360.0</td>\n",
       "      <td>NaN</td>\n",
       "      <td>Urban</td>\n",
       "    </tr>\n",
       "    <tr>\n",
       "      <th>4</th>\n",
       "      <td>LP001051</td>\n",
       "      <td>Male</td>\n",
       "      <td>No</td>\n",
       "      <td>0</td>\n",
       "      <td>Not Graduate</td>\n",
       "      <td>No</td>\n",
       "      <td>3276</td>\n",
       "      <td>0</td>\n",
       "      <td>78.0</td>\n",
       "      <td>360.0</td>\n",
       "      <td>1.0</td>\n",
       "      <td>Urban</td>\n",
       "    </tr>\n",
       "  </tbody>\n",
       "</table>\n",
       "</div>"
      ],
      "text/plain": [
       "    Loan_ID Gender Married Dependents     Education Self_Employed  \\\n",
       "0  LP001015   Male     Yes          0      Graduate            No   \n",
       "1  LP001022   Male     Yes          1      Graduate            No   \n",
       "2  LP001031   Male     Yes          2      Graduate            No   \n",
       "3  LP001035   Male     Yes          2      Graduate            No   \n",
       "4  LP001051   Male      No          0  Not Graduate            No   \n",
       "\n",
       "   ApplicantIncome  CoapplicantIncome  LoanAmount  Loan_Amount_Term  \\\n",
       "0             5720                  0       110.0             360.0   \n",
       "1             3076               1500       126.0             360.0   \n",
       "2             5000               1800       208.0             360.0   \n",
       "3             2340               2546       100.0             360.0   \n",
       "4             3276                  0        78.0             360.0   \n",
       "\n",
       "   Credit_History Property_Area  \n",
       "0             1.0         Urban  \n",
       "1             1.0         Urban  \n",
       "2             1.0         Urban  \n",
       "3             NaN         Urban  \n",
       "4             1.0         Urban  "
      ]
     },
     "execution_count": 8,
     "metadata": {},
     "output_type": "execute_result"
    }
   ],
   "source": [
    "test.head()"
   ]
  },
  {
   "cell_type": "code",
   "execution_count": null,
   "id": "02725fbd",
   "metadata": {
    "execution": {
     "iopub.execute_input": "2022-07-01T13:22:59.972316Z",
     "iopub.status.busy": "2022-07-01T13:22:59.971331Z",
     "iopub.status.idle": "2022-07-01T13:22:59.984829Z",
     "shell.execute_reply": "2022-07-01T13:22:59.984311Z",
     "shell.execute_reply.started": "2022-07-01T05:41:19.865353Z"
    },
    "papermill": {
     "duration": 0.115203,
     "end_time": "2022-07-01T13:22:59.984981",
     "exception": false,
     "start_time": "2022-07-01T13:22:59.869778",
     "status": "completed"
    },
    "tags": []
   },
   "outputs": [
    {
     "name": "stdout",
     "output_type": "stream",
     "text": [
      "<class 'pandas.core.frame.DataFrame'>\n",
      "RangeIndex: 367 entries, 0 to 366\n",
      "Data columns (total 12 columns):\n",
      " #   Column             Non-Null Count  Dtype  \n",
      "---  ------             --------------  -----  \n",
      " 0   Loan_ID            367 non-null    object \n",
      " 1   Gender             356 non-null    object \n",
      " 2   Married            367 non-null    object \n",
      " 3   Dependents         357 non-null    object \n",
      " 4   Education          367 non-null    object \n",
      " 5   Self_Employed      344 non-null    object \n",
      " 6   ApplicantIncome    367 non-null    int64  \n",
      " 7   CoapplicantIncome  367 non-null    int64  \n",
      " 8   LoanAmount         362 non-null    float64\n",
      " 9   Loan_Amount_Term   361 non-null    float64\n",
      " 10  Credit_History     338 non-null    float64\n",
      " 11  Property_Area      367 non-null    object \n",
      "dtypes: float64(3), int64(2), object(7)\n",
      "memory usage: 34.5+ KB\n"
     ]
    }
   ],
   "source": [
    "test.info()"
   ]
  },
  {
   "cell_type": "markdown",
   "id": "e6d2a3c5",
   "metadata": {
    "papermill": {
     "duration": 0.095305,
     "end_time": "2022-07-01T13:23:00.174852",
     "exception": false,
     "start_time": "2022-07-01T13:23:00.079547",
     "status": "completed"
    },
    "tags": []
   },
   "source": [
    "### Viewing no of null data in each feature of the test dataset"
   ]
  },
  {
   "cell_type": "code",
   "execution_count": null,
   "id": "ba2493e2",
   "metadata": {
    "execution": {
     "iopub.execute_input": "2022-07-01T13:23:00.371732Z",
     "iopub.status.busy": "2022-07-01T13:23:00.371019Z",
     "iopub.status.idle": "2022-07-01T13:23:00.374109Z",
     "shell.execute_reply": "2022-07-01T13:23:00.374658Z",
     "shell.execute_reply.started": "2022-07-01T05:41:19.894044Z"
    },
    "papermill": {
     "duration": 0.106336,
     "end_time": "2022-07-01T13:23:00.374830",
     "exception": false,
     "start_time": "2022-07-01T13:23:00.268494",
     "status": "completed"
    },
    "tags": []
   },
   "outputs": [
    {
     "data": {
      "text/plain": [
       "Loan_ID               0\n",
       "Gender               11\n",
       "Married               0\n",
       "Dependents           10\n",
       "Education             0\n",
       "Self_Employed        23\n",
       "ApplicantIncome       0\n",
       "CoapplicantIncome     0\n",
       "LoanAmount            5\n",
       "Loan_Amount_Term      6\n",
       "Credit_History       29\n",
       "Property_Area         0\n",
       "dtype: int64"
      ]
     },
     "execution_count": 10,
     "metadata": {},
     "output_type": "execute_result"
    }
   ],
   "source": [
    "test.isnull().sum()"
   ]
  },
  {
   "cell_type": "markdown",
   "id": "db3e4264",
   "metadata": {
    "papermill": {
     "duration": 0.093685,
     "end_time": "2022-07-01T13:23:00.561366",
     "exception": false,
     "start_time": "2022-07-01T13:23:00.467681",
     "status": "completed"
    },
    "tags": []
   },
   "source": [
    "### Counting frequency of categories for each categorical features"
   ]
  },
  {
   "cell_type": "code",
   "execution_count": null,
   "id": "718fdce8",
   "metadata": {
    "execution": {
     "iopub.execute_input": "2022-07-01T13:23:00.755328Z",
     "iopub.status.busy": "2022-07-01T13:23:00.754619Z",
     "iopub.status.idle": "2022-07-01T13:23:00.770704Z",
     "shell.execute_reply": "2022-07-01T13:23:00.771284Z",
     "shell.execute_reply.started": "2022-07-01T05:41:19.911141Z"
    },
    "papermill": {
     "duration": 0.115242,
     "end_time": "2022-07-01T13:23:00.771483",
     "exception": false,
     "start_time": "2022-07-01T13:23:00.656241",
     "status": "completed"
    },
    "tags": []
   },
   "outputs": [
    {
     "name": "stdout",
     "output_type": "stream",
     "text": [
      "\n",
      "Frequency of Categories for variable Gender\n",
      "Male      489\n",
      "Female    112\n",
      "Name: Gender, dtype: int64\n",
      "\n",
      "Frequency of Categories for variable Married\n",
      "Yes    398\n",
      "No     213\n",
      "Name: Married, dtype: int64\n",
      "\n",
      "Frequency of Categories for variable Dependents\n",
      "0     345\n",
      "1     102\n",
      "2     101\n",
      "3+     51\n",
      "Name: Dependents, dtype: int64\n",
      "\n",
      "Frequency of Categories for variable Education\n",
      "Graduate        480\n",
      "Not Graduate    134\n",
      "Name: Education, dtype: int64\n",
      "\n",
      "Frequency of Categories for variable Self_Employed\n",
      "No     500\n",
      "Yes     82\n",
      "Name: Self_Employed, dtype: int64\n",
      "\n",
      "Frequency of Categories for variable Property_Area\n",
      "Semiurban    233\n",
      "Urban        202\n",
      "Rural        179\n",
      "Name: Property_Area, dtype: int64\n"
     ]
    }
   ],
   "source": [
    "data = [train,test]\n",
    "for dataset in data:\n",
    "    #Filter categorical variables\n",
    "    categorical_columns = [x for x in dataset.dtypes.index if dataset.dtypes[x]=='object']\n",
    "    # Exclude ID cols and source:\n",
    "    categorical_columns = [x for x in categorical_columns if x not in ['Loan_ID' ]]\n",
    "    #Print frequency of categories\n",
    "    \n",
    "for col in categorical_columns:\n",
    "    print ('\\nFrequency of Categories for variable %s'%col)\n",
    "    print (train[col].value_counts())"
   ]
  },
  {
   "cell_type": "markdown",
   "id": "3f9a19d0",
   "metadata": {
    "papermill": {
     "duration": 0.096235,
     "end_time": "2022-07-01T13:23:00.961968",
     "exception": false,
     "start_time": "2022-07-01T13:23:00.865733",
     "status": "completed"
    },
    "tags": []
   },
   "source": [
    "#### Plotting No. of Males vs No. of Females"
   ]
  },
  {
   "cell_type": "code",
   "execution_count": null,
   "id": "30339a0f",
   "metadata": {
    "execution": {
     "iopub.execute_input": "2022-07-01T13:23:01.153823Z",
     "iopub.status.busy": "2022-07-01T13:23:01.153171Z",
     "iopub.status.idle": "2022-07-01T13:23:01.365400Z",
     "shell.execute_reply": "2022-07-01T13:23:01.364763Z",
     "shell.execute_reply.started": "2022-07-01T05:41:19.940502Z"
    },
    "papermill": {
     "duration": 0.308762,
     "end_time": "2022-07-01T13:23:01.365547",
     "exception": false,
     "start_time": "2022-07-01T13:23:01.056785",
     "status": "completed"
    },
    "tags": []
   },
   "outputs": [
    {
     "data": {
      "text/plain": [
       "<AxesSubplot:xlabel='Gender', ylabel='count'>"
      ]
     },
     "execution_count": 12,
     "metadata": {},
     "output_type": "execute_result"
    },
    {
     "data": {
      "image/png": "[encoded data removed]",
      "text/plain": [
       "<Figure size 432x288 with 1 Axes>"
      ]
     },
     "metadata": {
      "needs_background": "light"
     },
     "output_type": "display_data"
    }
   ],
   "source": [
    "sns.countplot(train['Gender'])"
   ]
  },
  {
   "cell_type": "markdown",
   "id": "49b82087",
   "metadata": {
    "papermill": {
     "duration": 0.095078,
     "end_time": "2022-07-01T13:23:01.555036",
     "exception": false,
     "start_time": "2022-07-01T13:23:01.459958",
     "status": "completed"
    },
    "tags": []
   },
   "source": [
    "#### Approval of loans between Males & Females"
   ]
  },
  {
   "cell_type": "code",
   "execution_count": null,
   "id": "b262eb96",
   "metadata": {
    "execution": {
     "iopub.execute_input": "2022-07-01T13:23:01.765564Z",
     "iopub.status.busy": "2022-07-01T13:23:01.755749Z",
     "iopub.status.idle": "2022-07-01T13:23:01.808779Z",
     "shell.execute_reply": "2022-07-01T13:23:01.808065Z",
     "shell.execute_reply.started": "2022-07-01T05:41:20.132553Z"
    },
    "papermill": {
     "duration": 0.158142,
     "end_time": "2022-07-01T13:23:01.808930",
     "exception": false,
     "start_time": "2022-07-01T13:23:01.650788",
     "status": "completed"
    },
    "tags": []
   },
   "outputs": [
    {
     "data": {
      "text/html": [
       "<div>\n",
       "<style scoped>\n",
       "    .dataframe tbody tr th:only-of-type {\n",
       "        vertical-align: middle;\n",
       "    }\n",
       "\n",
       "    .dataframe tbody tr th {\n",
       "        vertical-align: top;\n",
       "    }\n",
       "\n",
       "    .dataframe thead th {\n",
       "        text-align: right;\n",
       "    }\n",
       "</style>\n",
       "<table border=\"1\" class=\"dataframe\">\n",
       "  <thead>\n",
       "    <tr style=\"text-align: right;\">\n",
       "      <th>Loan_Status</th>\n",
       "      <th>N</th>\n",
       "      <th>Y</th>\n",
       "      <th>All</th>\n",
       "    </tr>\n",
       "    <tr>\n",
       "      <th>Gender</th>\n",
       "      <th></th>\n",
       "      <th></th>\n",
       "      <th></th>\n",
       "    </tr>\n",
       "  </thead>\n",
       "  <tbody>\n",
       "    <tr>\n",
       "      <th>Female</th>\n",
       "      <td>37</td>\n",
       "      <td>75</td>\n",
       "      <td>112</td>\n",
       "    </tr>\n",
       "    <tr>\n",
       "      <th>Male</th>\n",
       "      <td>150</td>\n",
       "      <td>339</td>\n",
       "      <td>489</td>\n",
       "    </tr>\n",
       "    <tr>\n",
       "      <th>All</th>\n",
       "      <td>187</td>\n",
       "      <td>414</td>\n",
       "      <td>601</td>\n",
       "    </tr>\n",
       "  </tbody>\n",
       "</table>\n",
       "</div>"
      ],
      "text/plain": [
       "Loan_Status    N    Y  All\n",
       "Gender                    \n",
       "Female        37   75  112\n",
       "Male         150  339  489\n",
       "All          187  414  601"
      ]
     },
     "execution_count": 13,
     "metadata": {},
     "output_type": "execute_result"
    }
   ],
   "source": [
    "pd.crosstab(train.Gender, train.Loan_Status, margins = True)"
   ]
  },
  {
   "cell_type": "markdown",
   "id": "18841c1f",
   "metadata": {
    "papermill": {
     "duration": 0.098085,
     "end_time": "2022-07-01T13:23:02.007222",
     "exception": false,
     "start_time": "2022-07-01T13:23:01.909137",
     "status": "completed"
    },
    "tags": []
   },
   "source": [
    "> The male are in large number as compared to female applicants."
   ]
  },
  {
   "cell_type": "markdown",
   "id": "b3e1a1c0",
   "metadata": {
    "papermill": {
     "duration": 0.095566,
     "end_time": "2022-07-01T13:23:02.206706",
     "exception": false,
     "start_time": "2022-07-01T13:23:02.111140",
     "status": "completed"
    },
    "tags": []
   },
   "source": [
    "### Filling up NAN values of Gender and Converting categorial variables(Male,Female) to numerical variables(0,1)"
   ]
  },
  {
   "cell_type": "code",
   "execution_count": null,
   "id": "231f340f",
   "metadata": {
    "execution": {
     "iopub.execute_input": "2022-07-01T13:23:02.409928Z",
     "iopub.status.busy": "2022-07-01T13:23:02.409198Z",
     "iopub.status.idle": "2022-07-01T13:23:02.420871Z",
     "shell.execute_reply": "2022-07-01T13:23:02.420210Z",
     "shell.execute_reply.started": "2022-07-01T05:41:20.198821Z"
    },
    "papermill": {
     "duration": 0.117561,
     "end_time": "2022-07-01T13:23:02.421024",
     "exception": false,
     "start_time": "2022-07-01T13:23:02.303463",
     "status": "completed"
    },
    "tags": []
   },
   "outputs": [],
   "source": [
    "train.Gender = train.Gender.fillna(train.Gender.mode())\n",
    "test.Gender = test.Gender.fillna(test.Gender.mode())\n",
    "\n",
    "sex = pd.get_dummies(train['Gender'] , drop_first = True )\n",
    "train.drop(['Gender'], axis = 1 , inplace =True)\n",
    "train = pd.concat([train , sex ] , axis = 1)\n",
    "\n",
    "sex = pd.get_dummies(test['Gender'] , drop_first = True )\n",
    "test.drop(['Gender'], axis = 1 , inplace =True)\n",
    "test = pd.concat([test , sex ] , axis = 1)"
   ]
  },
  {
   "cell_type": "markdown",
   "id": "afe584a9",
   "metadata": {
    "papermill": {
     "duration": 0.096452,
     "end_time": "2022-07-01T13:23:02.613785",
     "exception": false,
     "start_time": "2022-07-01T13:23:02.517333",
     "status": "completed"
    },
    "tags": []
   },
   "source": [
    "### Plotting No. of Dependants (Size of family) in each household"
   ]
  },
  {
   "cell_type": "code",
   "execution_count": null,
   "id": "d634d409",
   "metadata": {
    "execution": {
     "iopub.execute_input": "2022-07-01T13:23:02.829473Z",
     "iopub.status.busy": "2022-07-01T13:23:02.828452Z",
     "iopub.status.idle": "2022-07-01T13:23:02.971314Z",
     "shell.execute_reply": "2022-07-01T13:23:02.972456Z",
     "shell.execute_reply.started": "2022-07-01T05:41:20.224188Z"
    },
    "papermill": {
     "duration": 0.262956,
     "end_time": "2022-07-01T13:23:02.972736",
     "exception": false,
     "start_time": "2022-07-01T13:23:02.709780",
     "status": "completed"
    },
    "tags": []
   },
   "outputs": [
    {
     "data": {
      "image/png": "[encoded data removed]",
      "text/plain": [
       "<Figure size 432x432 with 1 Axes>"
      ]
     },
     "metadata": {},
     "output_type": "display_data"
    }
   ],
   "source": [
    "plt.figure(figsize=(6,6))\n",
    "labels = ['0' , '1', '2' , '3+']\n",
    "explode = (0.05, 0, 0, 0)\n",
    "size = [345 , 102 , 101 , 51]\n",
    "\n",
    "plt.pie(size, explode=explode, labels=labels,\n",
    "        autopct='%1.1f%%', shadow = True, startangle = 90)\n",
    "plt.axis('equal')\n",
    "plt.show()"
   ]
  },
  {
   "cell_type": "code",
   "execution_count": null,
   "id": "1cf84cc5",
   "metadata": {
    "execution": {
     "iopub.execute_input": "2022-07-01T13:23:03.205010Z",
     "iopub.status.busy": "2022-07-01T13:23:03.204193Z",
     "iopub.status.idle": "2022-07-01T13:23:03.207485Z",
     "shell.execute_reply": "2022-07-01T13:23:03.207991Z",
     "shell.execute_reply.started": "2022-07-01T05:41:20.416Z"
    },
    "papermill": {
     "duration": 0.107785,
     "end_time": "2022-07-01T13:23:03.208160",
     "exception": false,
     "start_time": "2022-07-01T13:23:03.100375",
     "status": "completed"
    },
    "tags": []
   },
   "outputs": [
    {
     "data": {
      "text/plain": [
       "0     345\n",
       "1     102\n",
       "2     101\n",
       "3+     51\n",
       "Name: Dependents, dtype: int64"
      ]
     },
     "execution_count": 16,
     "metadata": {},
     "output_type": "execute_result"
    }
   ],
   "source": [
    "train.Dependents.value_counts()"
   ]
  },
  {
   "cell_type": "markdown",
   "id": "dcb84777",
   "metadata": {
    "papermill": {
     "duration": 0.096463,
     "end_time": "2022-07-01T13:23:03.401015",
     "exception": false,
     "start_time": "2022-07-01T13:23:03.304552",
     "status": "completed"
    },
    "tags": []
   },
   "source": [
    "### Approval of loans between different sizes of families"
   ]
  },
  {
   "cell_type": "code",
   "execution_count": null,
   "id": "4a35e044",
   "metadata": {
    "execution": {
     "iopub.execute_input": "2022-07-01T13:23:03.601173Z",
     "iopub.status.busy": "2022-07-01T13:23:03.600194Z",
     "iopub.status.idle": "2022-07-01T13:23:03.633533Z",
     "shell.execute_reply": "2022-07-01T13:23:03.633996Z",
     "shell.execute_reply.started": "2022-07-01T05:41:20.432513Z"
    },
    "papermill": {
     "duration": 0.136713,
     "end_time": "2022-07-01T13:23:03.634163",
     "exception": false,
     "start_time": "2022-07-01T13:23:03.497450",
     "status": "completed"
    },
    "tags": []
   },
   "outputs": [
    {
     "data": {
      "text/html": [
       "<div>\n",
       "<style scoped>\n",
       "    .dataframe tbody tr th:only-of-type {\n",
       "        vertical-align: middle;\n",
       "    }\n",
       "\n",
       "    .dataframe tbody tr th {\n",
       "        vertical-align: top;\n",
       "    }\n",
       "\n",
       "    .dataframe thead th {\n",
       "        text-align: right;\n",
       "    }\n",
       "</style>\n",
       "<table border=\"1\" class=\"dataframe\">\n",
       "  <thead>\n",
       "    <tr style=\"text-align: right;\">\n",
       "      <th>Loan_Status</th>\n",
       "      <th>N</th>\n",
       "      <th>Y</th>\n",
       "      <th>All</th>\n",
       "    </tr>\n",
       "    <tr>\n",
       "      <th>Dependents</th>\n",
       "      <th></th>\n",
       "      <th></th>\n",
       "      <th></th>\n",
       "    </tr>\n",
       "  </thead>\n",
       "  <tbody>\n",
       "    <tr>\n",
       "      <th>0</th>\n",
       "      <td>107</td>\n",
       "      <td>238</td>\n",
       "      <td>345</td>\n",
       "    </tr>\n",
       "    <tr>\n",
       "      <th>1</th>\n",
       "      <td>36</td>\n",
       "      <td>66</td>\n",
       "      <td>102</td>\n",
       "    </tr>\n",
       "    <tr>\n",
       "      <th>2</th>\n",
       "      <td>25</td>\n",
       "      <td>76</td>\n",
       "      <td>101</td>\n",
       "    </tr>\n",
       "    <tr>\n",
       "      <th>3+</th>\n",
       "      <td>18</td>\n",
       "      <td>33</td>\n",
       "      <td>51</td>\n",
       "    </tr>\n",
       "    <tr>\n",
       "      <th>All</th>\n",
       "      <td>186</td>\n",
       "      <td>413</td>\n",
       "      <td>599</td>\n",
       "    </tr>\n",
       "  </tbody>\n",
       "</table>\n",
       "</div>"
      ],
      "text/plain": [
       "Loan_Status    N    Y  All\n",
       "Dependents                \n",
       "0            107  238  345\n",
       "1             36   66  102\n",
       "2             25   76  101\n",
       "3+            18   33   51\n",
       "All          186  413  599"
      ]
     },
     "execution_count": 17,
     "metadata": {},
     "output_type": "execute_result"
    }
   ],
   "source": [
    "pd.crosstab(train.Dependents , train.Loan_Status, margins = True)"
   ]
  },
  {
   "cell_type": "markdown",
   "id": "52b1e1b2",
   "metadata": {
    "papermill": {
     "duration": 0.114532,
     "end_time": "2022-07-01T13:23:03.846451",
     "exception": false,
     "start_time": "2022-07-01T13:23:03.731919",
     "status": "completed"
    },
    "tags": []
   },
   "source": [
    "> The applicants with highest number of dependants are least in number whereas applicants with no dependance are greatest among these."
   ]
  },
  {
   "cell_type": "markdown",
   "id": "bd2fb409",
   "metadata": {
    "papermill": {
     "duration": 0.097064,
     "end_time": "2022-07-01T13:23:04.042399",
     "exception": false,
     "start_time": "2022-07-01T13:23:03.945335",
     "status": "completed"
    },
    "tags": []
   },
   "source": [
    "### Filling up NAN values of Dependents and Converting categorial variables(1,2,3+) to numerical variables(1,2,3)"
   ]
  },
  {
   "cell_type": "code",
   "execution_count": null,
   "id": "ac45fc10",
   "metadata": {
    "execution": {
     "iopub.execute_input": "2022-07-01T13:23:04.253587Z",
     "iopub.status.busy": "2022-07-01T13:23:04.252678Z",
     "iopub.status.idle": "2022-07-01T13:23:04.255366Z",
     "shell.execute_reply": "2022-07-01T13:23:04.254828Z",
     "shell.execute_reply.started": "2022-07-01T05:41:20.494353Z"
    },
    "papermill": {
     "duration": 0.112705,
     "end_time": "2022-07-01T13:23:04.255525",
     "exception": false,
     "start_time": "2022-07-01T13:23:04.142820",
     "status": "completed"
    },
    "tags": []
   },
   "outputs": [],
   "source": [
    "train.Dependents = train.Dependents.fillna(\"0\")\n",
    "test.Dependents = test.Dependents.fillna(\"0\")\n",
    "\n",
    "rpl = {'0':'0', '1':'1', '2':'2', '3+':'3'}\n",
    "\n",
    "train.Dependents = train.Dependents.replace(rpl).astype(int)\n",
    "test.Dependents = test.Dependents.replace(rpl).astype(int)"
   ]
  },
  {
   "cell_type": "markdown",
   "id": "f2a16c4d",
   "metadata": {
    "papermill": {
     "duration": 0.099138,
     "end_time": "2022-07-01T13:23:04.453271",
     "exception": false,
     "start_time": "2022-07-01T13:23:04.354133",
     "status": "completed"
    },
    "tags": []
   },
   "source": [
    "### Plotting No. of people with vs without Credit History"
   ]
  },
  {
   "cell_type": "code",
   "execution_count": null,
   "id": "6da6146e",
   "metadata": {
    "execution": {
     "iopub.execute_input": "2022-07-01T13:23:04.654616Z",
     "iopub.status.busy": "2022-07-01T13:23:04.653554Z",
     "iopub.status.idle": "2022-07-01T13:23:04.817468Z",
     "shell.execute_reply": "2022-07-01T13:23:04.816914Z",
     "shell.execute_reply.started": "2022-07-01T05:41:20.509531Z"
    },
    "papermill": {
     "duration": 0.265892,
     "end_time": "2022-07-01T13:23:04.817624",
     "exception": false,
     "start_time": "2022-07-01T13:23:04.551732",
     "status": "completed"
    },
    "tags": []
   },
   "outputs": [
    {
     "data": {
      "text/plain": [
       "<AxesSubplot:xlabel='Credit_History', ylabel='count'>"
      ]
     },
     "execution_count": 19,
     "metadata": {},
     "output_type": "execute_result"
    },
    {
     "data": {
      "image/png": "[encoded data removed]",
      "text/plain": [
       "<Figure size 432x288 with 1 Axes>"
      ]
     },
     "metadata": {
      "needs_background": "light"
     },
     "output_type": "display_data"
    }
   ],
   "source": [
    "sns.countplot(train['Credit_History'])"
   ]
  },
  {
   "cell_type": "markdown",
   "id": "184b1765",
   "metadata": {
    "papermill": {
     "duration": 0.099924,
     "end_time": "2022-07-01T13:23:05.016186",
     "exception": false,
     "start_time": "2022-07-01T13:23:04.916262",
     "status": "completed"
    },
    "tags": []
   },
   "source": [
    "### Approval of loans people those who have Credit History and those who don't"
   ]
  },
  {
   "cell_type": "code",
   "execution_count": null,
   "id": "170cac9f",
   "metadata": {
    "execution": {
     "iopub.execute_input": "2022-07-01T13:23:05.223711Z",
     "iopub.status.busy": "2022-07-01T13:23:05.222586Z",
     "iopub.status.idle": "2022-07-01T13:23:05.259445Z",
     "shell.execute_reply": "2022-07-01T13:23:05.260043Z",
     "shell.execute_reply.started": "2022-07-01T05:41:20.692171Z"
    },
    "papermill": {
     "duration": 0.142565,
     "end_time": "2022-07-01T13:23:05.260217",
     "exception": false,
     "start_time": "2022-07-01T13:23:05.117652",
     "status": "completed"
    },
    "tags": []
   },
   "outputs": [
    {
     "data": {
      "text/html": [
       "<div>\n",
       "<style scoped>\n",
       "    .dataframe tbody tr th:only-of-type {\n",
       "        vertical-align: middle;\n",
       "    }\n",
       "\n",
       "    .dataframe tbody tr th {\n",
       "        vertical-align: top;\n",
       "    }\n",
       "\n",
       "    .dataframe thead th {\n",
       "        text-align: right;\n",
       "    }\n",
       "</style>\n",
       "<table border=\"1\" class=\"dataframe\">\n",
       "  <thead>\n",
       "    <tr style=\"text-align: right;\">\n",
       "      <th>Loan_Status</th>\n",
       "      <th>N</th>\n",
       "      <th>Y</th>\n",
       "      <th>All</th>\n",
       "    </tr>\n",
       "    <tr>\n",
       "      <th>Credit_History</th>\n",
       "      <th></th>\n",
       "      <th></th>\n",
       "      <th></th>\n",
       "    </tr>\n",
       "  </thead>\n",
       "  <tbody>\n",
       "    <tr>\n",
       "      <th>0.0</th>\n",
       "      <td>82</td>\n",
       "      <td>7</td>\n",
       "      <td>89</td>\n",
       "    </tr>\n",
       "    <tr>\n",
       "      <th>1.0</th>\n",
       "      <td>97</td>\n",
       "      <td>378</td>\n",
       "      <td>475</td>\n",
       "    </tr>\n",
       "    <tr>\n",
       "      <th>All</th>\n",
       "      <td>179</td>\n",
       "      <td>385</td>\n",
       "      <td>564</td>\n",
       "    </tr>\n",
       "  </tbody>\n",
       "</table>\n",
       "</div>"
      ],
      "text/plain": [
       "Loan_Status       N    Y  All\n",
       "Credit_History               \n",
       "0.0              82    7   89\n",
       "1.0              97  378  475\n",
       "All             179  385  564"
      ]
     },
     "execution_count": 20,
     "metadata": {},
     "output_type": "execute_result"
    }
   ],
   "source": [
    "pd.crosstab(train.Credit_History , train.Loan_Status, margins = True)"
   ]
  },
  {
   "cell_type": "markdown",
   "id": "58f44e20",
   "metadata": {
    "papermill": {
     "duration": 0.098785,
     "end_time": "2022-07-01T13:23:05.458003",
     "exception": false,
     "start_time": "2022-07-01T13:23:05.359218",
     "status": "completed"
    },
    "tags": []
   },
   "source": [
    "### Filling up NAN values of Credit history by taking the mode"
   ]
  },
  {
   "cell_type": "code",
   "execution_count": null,
   "id": "bc8be50b",
   "metadata": {
    "execution": {
     "iopub.execute_input": "2022-07-01T13:23:05.664146Z",
     "iopub.status.busy": "2022-07-01T13:23:05.663448Z",
     "iopub.status.idle": "2022-07-01T13:23:05.666116Z",
     "shell.execute_reply": "2022-07-01T13:23:05.666601Z",
     "shell.execute_reply.started": "2022-07-01T05:41:20.746969Z"
    },
    "papermill": {
     "duration": 0.110134,
     "end_time": "2022-07-01T13:23:05.666789",
     "exception": false,
     "start_time": "2022-07-01T13:23:05.556655",
     "status": "completed"
    },
    "tags": []
   },
   "outputs": [],
   "source": [
    "train.Credit_History = train.Credit_History.fillna(train.Credit_History.mode()[0])\n",
    "test.Credit_History  = test.Credit_History.fillna(test.Credit_History.mode()[0])"
   ]
  },
  {
   "cell_type": "markdown",
   "id": "12547dd4",
   "metadata": {
    "papermill": {
     "duration": 0.100456,
     "end_time": "2022-07-01T13:23:05.865981",
     "exception": false,
     "start_time": "2022-07-01T13:23:05.765525",
     "status": "completed"
    },
    "tags": []
   },
   "source": [
    "### Plotting No. of people who are Self-employed vs who aren't"
   ]
  },
  {
   "cell_type": "code",
   "execution_count": null,
   "id": "7a2671ae",
   "metadata": {
    "execution": {
     "iopub.execute_input": "2022-07-01T13:23:06.068717Z",
     "iopub.status.busy": "2022-07-01T13:23:06.068010Z",
     "iopub.status.idle": "2022-07-01T13:23:06.241648Z",
     "shell.execute_reply": "2022-07-01T13:23:06.242147Z",
     "shell.execute_reply.started": "2022-07-01T05:41:20.759296Z"
    },
    "papermill": {
     "duration": 0.276339,
     "end_time": "2022-07-01T13:23:06.242352",
     "exception": false,
     "start_time": "2022-07-01T13:23:05.966013",
     "status": "completed"
    },
    "scrolled": true,
    "tags": []
   },
   "outputs": [
    {
     "data": {
      "text/plain": [
       "<AxesSubplot:xlabel='Self_Employed', ylabel='count'>"
      ]
     },
     "execution_count": 22,
     "metadata": {},
     "output_type": "execute_result"
    },
    {
     "data": {
      "image/png": "[encoded data removed]",
      "text/plain": [
       "<Figure size 432x288 with 1 Axes>"
      ]
     },
     "metadata": {
      "needs_background": "light"
     },
     "output_type": "display_data"
    }
   ],
   "source": [
    "sns.countplot(train['Self_Employed'])"
   ]
  },
  {
   "cell_type": "markdown",
   "id": "5395a2b7",
   "metadata": {
    "papermill": {
     "duration": 0.100618,
     "end_time": "2022-07-01T13:23:06.444207",
     "exception": false,
     "start_time": "2022-07-01T13:23:06.343589",
     "status": "completed"
    },
    "tags": []
   },
   "source": [
    "### Approval of loans between people who are Self-employed & who aren't"
   ]
  },
  {
   "cell_type": "code",
   "execution_count": null,
   "id": "bd8ec506",
   "metadata": {
    "execution": {
     "iopub.execute_input": "2022-07-01T13:23:06.648586Z",
     "iopub.status.busy": "2022-07-01T13:23:06.647882Z",
     "iopub.status.idle": "2022-07-01T13:23:06.684454Z",
     "shell.execute_reply": "2022-07-01T13:23:06.685089Z",
     "shell.execute_reply.started": "2022-07-01T05:41:20.950611Z"
    },
    "papermill": {
     "duration": 0.140121,
     "end_time": "2022-07-01T13:23:06.685257",
     "exception": false,
     "start_time": "2022-07-01T13:23:06.545136",
     "status": "completed"
    },
    "tags": []
   },
   "outputs": [
    {
     "data": {
      "text/html": [
       "<div>\n",
       "<style scoped>\n",
       "    .dataframe tbody tr th:only-of-type {\n",
       "        vertical-align: middle;\n",
       "    }\n",
       "\n",
       "    .dataframe tbody tr th {\n",
       "        vertical-align: top;\n",
       "    }\n",
       "\n",
       "    .dataframe thead th {\n",
       "        text-align: right;\n",
       "    }\n",
       "</style>\n",
       "<table border=\"1\" class=\"dataframe\">\n",
       "  <thead>\n",
       "    <tr style=\"text-align: right;\">\n",
       "      <th>Loan_Status</th>\n",
       "      <th>N</th>\n",
       "      <th>Y</th>\n",
       "      <th>All</th>\n",
       "    </tr>\n",
       "    <tr>\n",
       "      <th>Self_Employed</th>\n",
       "      <th></th>\n",
       "      <th></th>\n",
       "      <th></th>\n",
       "    </tr>\n",
       "  </thead>\n",
       "  <tbody>\n",
       "    <tr>\n",
       "      <th>No</th>\n",
       "      <td>157</td>\n",
       "      <td>343</td>\n",
       "      <td>500</td>\n",
       "    </tr>\n",
       "    <tr>\n",
       "      <th>Yes</th>\n",
       "      <td>26</td>\n",
       "      <td>56</td>\n",
       "      <td>82</td>\n",
       "    </tr>\n",
       "    <tr>\n",
       "      <th>All</th>\n",
       "      <td>183</td>\n",
       "      <td>399</td>\n",
       "      <td>582</td>\n",
       "    </tr>\n",
       "  </tbody>\n",
       "</table>\n",
       "</div>"
      ],
      "text/plain": [
       "Loan_Status      N    Y  All\n",
       "Self_Employed               \n",
       "No             157  343  500\n",
       "Yes             26   56   82\n",
       "All            183  399  582"
      ]
     },
     "execution_count": 23,
     "metadata": {},
     "output_type": "execute_result"
    }
   ],
   "source": [
    "pd.crosstab(train.Self_Employed , train.Loan_Status,margins = True)"
   ]
  },
  {
   "cell_type": "markdown",
   "id": "98a61de3",
   "metadata": {
    "papermill": {
     "duration": 0.100116,
     "end_time": "2022-07-01T13:23:06.885957",
     "exception": false,
     "start_time": "2022-07-01T13:23:06.785841",
     "status": "completed"
    },
    "tags": []
   },
   "source": [
    "### Filling NAN values and Converting categorial variables(Yes,No) to numerical variables(1,0)"
   ]
  },
  {
   "cell_type": "code",
   "execution_count": null,
   "id": "9d3a3863",
   "metadata": {
    "execution": {
     "iopub.execute_input": "2022-07-01T13:23:07.091422Z",
     "iopub.status.busy": "2022-07-01T13:23:07.090705Z",
     "iopub.status.idle": "2022-07-01T13:23:07.108456Z",
     "shell.execute_reply": "2022-07-01T13:23:07.107847Z",
     "shell.execute_reply.started": "2022-07-01T05:41:20.992004Z"
    },
    "papermill": {
     "duration": 0.120986,
     "end_time": "2022-07-01T13:23:07.108628",
     "exception": false,
     "start_time": "2022-07-01T13:23:06.987642",
     "status": "completed"
    },
    "tags": []
   },
   "outputs": [],
   "source": [
    "train.Self_Employed = train.Self_Employed.fillna(train.Self_Employed.mode())\n",
    "test.Self_Employed = test.Self_Employed.fillna(test.Self_Employed.mode())\n",
    "\n",
    "self_Employed = pd.get_dummies(train['Self_Employed'] ,prefix = 'employed' ,drop_first = True )\n",
    "train.drop(['Self_Employed'], axis = 1 , inplace =True)\n",
    "train = pd.concat([train , self_Employed ] , axis = 1)\n",
    "\n",
    "self_Employed = pd.get_dummies(test['Self_Employed'] , prefix = 'employed' ,drop_first = True )\n",
    "test.drop(['Self_Employed'], axis = 1 , inplace =True)\n",
    "test = pd.concat([test , self_Employed ] , axis = 1)"
   ]
  },
  {
   "cell_type": "markdown",
   "id": "ae5c5c31",
   "metadata": {
    "papermill": {
     "duration": 0.100429,
     "end_time": "2022-07-01T13:23:07.314203",
     "exception": false,
     "start_time": "2022-07-01T13:23:07.213774",
     "status": "completed"
    },
    "tags": []
   },
   "source": [
    "### Plotting No. of Married people vs Unmarried people"
   ]
  },
  {
   "cell_type": "code",
   "execution_count": null,
   "id": "ca34024b",
   "metadata": {
    "execution": {
     "iopub.execute_input": "2022-07-01T13:23:07.525357Z",
     "iopub.status.busy": "2022-07-01T13:23:07.524652Z",
     "iopub.status.idle": "2022-07-01T13:23:07.703430Z",
     "shell.execute_reply": "2022-07-01T13:23:07.703959Z",
     "shell.execute_reply.started": "2022-07-01T05:41:21.017025Z"
    },
    "papermill": {
     "duration": 0.288302,
     "end_time": "2022-07-01T13:23:07.704130",
     "exception": false,
     "start_time": "2022-07-01T13:23:07.415828",
     "status": "completed"
    },
    "tags": []
   },
   "outputs": [
    {
     "data": {
      "text/plain": [
       "<AxesSubplot:xlabel='Married', ylabel='count'>"
      ]
     },
     "execution_count": 25,
     "metadata": {},
     "output_type": "execute_result"
    },
    {
     "data": {
      "image/png": "[encoded data removed]",
      "text/plain": [
       "<Figure size 432x288 with 1 Axes>"
      ]
     },
     "metadata": {
      "needs_background": "light"
     },
     "output_type": "display_data"
    }
   ],
   "source": [
    "sns.countplot(train.Married)"
   ]
  },
  {
   "cell_type": "markdown",
   "id": "6bdf89b5",
   "metadata": {
    "papermill": {
     "duration": 0.106574,
     "end_time": "2022-07-01T13:23:07.913897",
     "exception": false,
     "start_time": "2022-07-01T13:23:07.807323",
     "status": "completed"
    },
    "tags": []
   },
   "source": [
    "### Approval of loans between Married and Unmarried people"
   ]
  },
  {
   "cell_type": "code",
   "execution_count": null,
   "id": "3f889ad3",
   "metadata": {
    "execution": {
     "iopub.execute_input": "2022-07-01T13:23:08.125568Z",
     "iopub.status.busy": "2022-07-01T13:23:08.124894Z",
     "iopub.status.idle": "2022-07-01T13:23:08.160614Z",
     "shell.execute_reply": "2022-07-01T13:23:08.160010Z",
     "shell.execute_reply.started": "2022-07-01T05:41:21.21976Z"
    },
    "papermill": {
     "duration": 0.144003,
     "end_time": "2022-07-01T13:23:08.160767",
     "exception": false,
     "start_time": "2022-07-01T13:23:08.016764",
     "status": "completed"
    },
    "tags": []
   },
   "outputs": [
    {
     "data": {
      "text/html": [
       "<div>\n",
       "<style scoped>\n",
       "    .dataframe tbody tr th:only-of-type {\n",
       "        vertical-align: middle;\n",
       "    }\n",
       "\n",
       "    .dataframe tbody tr th {\n",
       "        vertical-align: top;\n",
       "    }\n",
       "\n",
       "    .dataframe thead th {\n",
       "        text-align: right;\n",
       "    }\n",
       "</style>\n",
       "<table border=\"1\" class=\"dataframe\">\n",
       "  <thead>\n",
       "    <tr style=\"text-align: right;\">\n",
       "      <th>Loan_Status</th>\n",
       "      <th>N</th>\n",
       "      <th>Y</th>\n",
       "      <th>All</th>\n",
       "    </tr>\n",
       "    <tr>\n",
       "      <th>Married</th>\n",
       "      <th></th>\n",
       "      <th></th>\n",
       "      <th></th>\n",
       "    </tr>\n",
       "  </thead>\n",
       "  <tbody>\n",
       "    <tr>\n",
       "      <th>No</th>\n",
       "      <td>79</td>\n",
       "      <td>134</td>\n",
       "      <td>213</td>\n",
       "    </tr>\n",
       "    <tr>\n",
       "      <th>Yes</th>\n",
       "      <td>113</td>\n",
       "      <td>285</td>\n",
       "      <td>398</td>\n",
       "    </tr>\n",
       "    <tr>\n",
       "      <th>All</th>\n",
       "      <td>192</td>\n",
       "      <td>419</td>\n",
       "      <td>611</td>\n",
       "    </tr>\n",
       "  </tbody>\n",
       "</table>\n",
       "</div>"
      ],
      "text/plain": [
       "Loan_Status    N    Y  All\n",
       "Married                   \n",
       "No            79  134  213\n",
       "Yes          113  285  398\n",
       "All          192  419  611"
      ]
     },
     "execution_count": 26,
     "metadata": {},
     "output_type": "execute_result"
    }
   ],
   "source": [
    "pd.crosstab(train.Married , train.Loan_Status,margins = True)"
   ]
  },
  {
   "cell_type": "markdown",
   "id": "580164e9",
   "metadata": {
    "papermill": {
     "duration": 0.106702,
     "end_time": "2022-07-01T13:23:08.370335",
     "exception": false,
     "start_time": "2022-07-01T13:23:08.263633",
     "status": "completed"
    },
    "tags": []
   },
   "source": [
    "### Filling NAN values and Converting categorial variables(Yes,No) to numerical variables(1,0)"
   ]
  },
  {
   "cell_type": "code",
   "execution_count": null,
   "id": "1afebbf4",
   "metadata": {
    "execution": {
     "iopub.execute_input": "2022-07-01T13:23:08.586939Z",
     "iopub.status.busy": "2022-07-01T13:23:08.586205Z",
     "iopub.status.idle": "2022-07-01T13:23:08.598129Z",
     "shell.execute_reply": "2022-07-01T13:23:08.598638Z",
     "shell.execute_reply.started": "2022-07-01T05:41:21.272303Z"
    },
    "papermill": {
     "duration": 0.122267,
     "end_time": "2022-07-01T13:23:08.598826",
     "exception": false,
     "start_time": "2022-07-01T13:23:08.476559",
     "status": "completed"
    },
    "tags": []
   },
   "outputs": [],
   "source": [
    "train.Married = train.Married.fillna(train.Married.mode())\n",
    "test.Married = test.Married.fillna(test.Married.mode())\n",
    "\n",
    "married = pd.get_dummies(train['Married'] , prefix = 'married',drop_first = True )\n",
    "train.drop(['Married'], axis = 1 , inplace =True)\n",
    "train = pd.concat([train , married ] , axis = 1)\n",
    "\n",
    "married = pd.get_dummies(test['Married'] , prefix = 'married', drop_first = True )\n",
    "test.drop(['Married'], axis = 1 , inplace =True)\n",
    "test = pd.concat([test , married ] , axis = 1)"
   ]
  },
  {
   "cell_type": "markdown",
   "id": "754b9eba",
   "metadata": {
    "papermill": {
     "duration": 0.103835,
     "end_time": "2022-07-01T13:23:08.807324",
     "exception": false,
     "start_time": "2022-07-01T13:23:08.703489",
     "status": "completed"
    },
    "tags": []
   },
   "source": [
    "### Filling up NAN values of Loan Amount Term"
   ]
  },
  {
   "cell_type": "code",
   "execution_count": null,
   "id": "37af9cc1",
   "metadata": {
    "execution": {
     "iopub.execute_input": "2022-07-01T13:23:09.020143Z",
     "iopub.status.busy": "2022-07-01T13:23:09.019482Z",
     "iopub.status.idle": "2022-07-01T13:23:09.029848Z",
     "shell.execute_reply": "2022-07-01T13:23:09.030364Z",
     "shell.execute_reply.started": "2022-07-01T05:41:21.300198Z"
    },
    "papermill": {
     "duration": 0.116475,
     "end_time": "2022-07-01T13:23:09.030554",
     "exception": false,
     "start_time": "2022-07-01T13:23:08.914079",
     "status": "completed"
    },
    "tags": []
   },
   "outputs": [],
   "source": [
    "train.drop(['Loan_Amount_Term'], axis = 1 , inplace =True)\n",
    "test.drop(['Loan_Amount_Term'], axis = 1 , inplace =True)\n",
    "\n",
    "train.LoanAmount = train.LoanAmount.fillna(train.LoanAmount.mean()).astype(int)\n",
    "test.LoanAmount = test.LoanAmount.fillna(test.LoanAmount.mean()).astype(int)"
   ]
  },
  {
   "cell_type": "code",
   "execution_count": null,
   "id": "6c011ac3",
   "metadata": {
    "execution": {
     "iopub.execute_input": "2022-07-01T13:23:09.265752Z",
     "iopub.status.busy": "2022-07-01T13:23:09.265064Z",
     "iopub.status.idle": "2022-07-01T13:23:09.572546Z",
     "shell.execute_reply": "2022-07-01T13:23:09.571841Z",
     "shell.execute_reply.started": "2022-07-01T05:41:21.316255Z"
    },
    "papermill": {
     "duration": 0.432055,
     "end_time": "2022-07-01T13:23:09.572693",
     "exception": false,
     "start_time": "2022-07-01T13:23:09.140638",
     "status": "completed"
    },
    "tags": []
   },
   "outputs": [
    {
     "data": {
      "text/plain": [
       "<AxesSubplot:xlabel='LoanAmount', ylabel='Density'>"
      ]
     },
     "execution_count": 29,
     "metadata": {},
     "output_type": "execute_result"
    },
    {
     "data": {
      "image/png": "[encoded data removed]",
      "text/plain": [
       "<Figure size 432x288 with 1 Axes>"
      ]
     },
     "metadata": {
      "needs_background": "light"
     },
     "output_type": "display_data"
    }
   ],
   "source": [
    "sns.distplot(train['LoanAmount'])"
   ]
  },
  {
   "cell_type": "markdown",
   "id": "c94b7774",
   "metadata": {
    "papermill": {
     "duration": 0.10345,
     "end_time": "2022-07-01T13:23:09.781589",
     "exception": false,
     "start_time": "2022-07-01T13:23:09.678139",
     "status": "completed"
    },
    "tags": []
   },
   "source": [
    "> We observe no outliers in the continuous variable Loan Amount"
   ]
  },
  {
   "cell_type": "markdown",
   "id": "bd30681a",
   "metadata": {
    "papermill": {
     "duration": 0.103615,
     "end_time": "2022-07-01T13:23:09.991755",
     "exception": false,
     "start_time": "2022-07-01T13:23:09.888140",
     "status": "completed"
    },
    "tags": []
   },
   "source": [
    "### Plotting Graduates vs Non-Graduates"
   ]
  },
  {
   "cell_type": "code",
   "execution_count": null,
   "id": "2e05f7a9",
   "metadata": {
    "execution": {
     "iopub.execute_input": "2022-07-01T13:23:10.209335Z",
     "iopub.status.busy": "2022-07-01T13:23:10.208255Z",
     "iopub.status.idle": "2022-07-01T13:23:10.376636Z",
     "shell.execute_reply": "2022-07-01T13:23:10.376068Z",
     "shell.execute_reply.started": "2022-07-01T05:41:21.646341Z"
    },
    "papermill": {
     "duration": 0.281023,
     "end_time": "2022-07-01T13:23:10.376793",
     "exception": false,
     "start_time": "2022-07-01T13:23:10.095770",
     "status": "completed"
    },
    "tags": []
   },
   "outputs": [
    {
     "data": {
      "text/plain": [
       "<AxesSubplot:xlabel='Education', ylabel='count'>"
      ]
     },
     "execution_count": 30,
     "metadata": {},
     "output_type": "execute_result"
    },
    {
     "data": {
      "image/png": "[encoded data removed]",
      "text/plain": [
       "<Figure size 432x288 with 1 Axes>"
      ]
     },
     "metadata": {
      "needs_background": "light"
     },
     "output_type": "display_data"
    }
   ],
   "source": [
    "sns.countplot(train.Education)"
   ]
  },
  {
   "cell_type": "markdown",
   "id": "8bb9ed61",
   "metadata": {
    "papermill": {
     "duration": 0.10738,
     "end_time": "2022-07-01T13:23:10.592224",
     "exception": false,
     "start_time": "2022-07-01T13:23:10.484844",
     "status": "completed"
    },
    "tags": []
   },
   "source": [
    "### Converting categorial variables to numerical variables"
   ]
  },
  {
   "cell_type": "code",
   "execution_count": null,
   "id": "694d0bee",
   "metadata": {
    "execution": {
     "iopub.execute_input": "2022-07-01T13:23:10.818391Z",
     "iopub.status.busy": "2022-07-01T13:23:10.817716Z",
     "iopub.status.idle": "2022-07-01T13:23:10.820047Z",
     "shell.execute_reply": "2022-07-01T13:23:10.820573Z",
     "shell.execute_reply.started": "2022-07-01T05:41:21.838554Z"
    },
    "papermill": {
     "duration": 0.121809,
     "end_time": "2022-07-01T13:23:10.820747",
     "exception": false,
     "start_time": "2022-07-01T13:23:10.698938",
     "status": "completed"
    },
    "scrolled": true,
    "tags": []
   },
   "outputs": [],
   "source": [
    "train['Education'] = train['Education'].map( {'Graduate': 0, 'Not Graduate': 1} ).astype(int)\n",
    "test['Education'] = test['Education'].map( {'Graduate': 0, 'Not Graduate': 1} ).astype(int)"
   ]
  },
  {
   "cell_type": "markdown",
   "id": "10f84996",
   "metadata": {
    "papermill": {
     "duration": 0.104879,
     "end_time": "2022-07-01T13:23:11.030632",
     "exception": false,
     "start_time": "2022-07-01T13:23:10.925753",
     "status": "completed"
    },
    "tags": []
   },
   "source": [
    "### Property Area"
   ]
  },
  {
   "cell_type": "code",
   "execution_count": null,
   "id": "ee556050",
   "metadata": {
    "execution": {
     "iopub.execute_input": "2022-07-01T13:23:11.253543Z",
     "iopub.status.busy": "2022-07-01T13:23:11.252812Z",
     "iopub.status.idle": "2022-07-01T13:23:11.427819Z",
     "shell.execute_reply": "2022-07-01T13:23:11.427146Z",
     "shell.execute_reply.started": "2022-07-01T05:41:21.850508Z"
    },
    "papermill": {
     "duration": 0.289327,
     "end_time": "2022-07-01T13:23:11.427968",
     "exception": false,
     "start_time": "2022-07-01T13:23:11.138641",
     "status": "completed"
    },
    "tags": []
   },
   "outputs": [
    {
     "data": {
      "text/plain": [
       "<AxesSubplot:xlabel='Property_Area', ylabel='count'>"
      ]
     },
     "execution_count": 32,
     "metadata": {},
     "output_type": "execute_result"
    },
    {
     "data": {
      "image/png": "[encoded data removed]",
      "text/plain": [
       "<Figure size 432x288 with 1 Axes>"
      ]
     },
     "metadata": {
      "needs_background": "light"
     },
     "output_type": "display_data"
    }
   ],
   "source": [
    "sns.countplot(train.Property_Area)"
   ]
  },
  {
   "cell_type": "markdown",
   "id": "b8ce82e6",
   "metadata": {
    "papermill": {
     "duration": 0.108163,
     "end_time": "2022-07-01T13:23:11.645574",
     "exception": false,
     "start_time": "2022-07-01T13:23:11.537411",
     "status": "completed"
    },
    "tags": []
   },
   "source": [
    "### Converting categorial variables to numerical variables"
   ]
  },
  {
   "cell_type": "code",
   "execution_count": null,
   "id": "5a5e49f2",
   "metadata": {
    "execution": {
     "iopub.execute_input": "2022-07-01T13:23:11.865242Z",
     "iopub.status.busy": "2022-07-01T13:23:11.864584Z",
     "iopub.status.idle": "2022-07-01T13:23:11.874141Z",
     "shell.execute_reply": "2022-07-01T13:23:11.874720Z",
     "shell.execute_reply.started": "2022-07-01T05:41:22.042255Z"
    },
    "papermill": {
     "duration": 0.121992,
     "end_time": "2022-07-01T13:23:11.874899",
     "exception": false,
     "start_time": "2022-07-01T13:23:11.752907",
     "status": "completed"
    },
    "tags": []
   },
   "outputs": [],
   "source": [
    "train['Property_Area'] = train['Property_Area'].map( {'Urban': 0, 'Semiurban': 1 ,'Rural': 2  } ).astype(int)\n",
    "\n",
    "test.Property_Area = test.Property_Area.fillna(test.Property_Area.mode())\n",
    "test['Property_Area'] = test['Property_Area'].map( {'Urban': 0, 'Semiurban': 1 ,'Rural': 2  } ).astype(int)\n"
   ]
  },
  {
   "cell_type": "markdown",
   "id": "4ec4a462",
   "metadata": {
    "papermill": {
     "duration": 0.106906,
     "end_time": "2022-07-01T13:23:12.088330",
     "exception": false,
     "start_time": "2022-07-01T13:23:11.981424",
     "status": "completed"
    },
    "tags": []
   },
   "source": [
    "### Plotting Co-Applicant income and Applicant income"
   ]
  },
  {
   "cell_type": "code",
   "execution_count": null,
   "id": "17618765",
   "metadata": {
    "execution": {
     "iopub.execute_input": "2022-07-01T13:23:12.445573Z",
     "iopub.status.busy": "2022-07-01T13:23:12.444870Z",
     "iopub.status.idle": "2022-07-01T13:23:12.736745Z",
     "shell.execute_reply": "2022-07-01T13:23:12.736088Z",
     "shell.execute_reply.started": "2022-07-01T05:41:22.056312Z"
    },
    "papermill": {
     "duration": 0.542498,
     "end_time": "2022-07-01T13:23:12.736892",
     "exception": false,
     "start_time": "2022-07-01T13:23:12.194394",
     "status": "completed"
    },
    "tags": []
   },
   "outputs": [
    {
     "data": {
      "text/plain": [
       "<AxesSubplot:xlabel='ApplicantIncome', ylabel='Density'>"
      ]
     },
     "execution_count": 34,
     "metadata": {},
     "output_type": "execute_result"
    },
    {
     "data": {
      "image/png": "[encoded data removed]",
      "text/plain": [
       "<Figure size 432x288 with 1 Axes>"
      ]
     },
     "metadata": {
      "needs_background": "light"
     },
     "output_type": "display_data"
    }
   ],
   "source": [
    "sns.distplot(train['ApplicantIncome'])"
   ]
  },
  {
   "cell_type": "code",
   "execution_count": null,
   "id": "bf935551",
   "metadata": {
    "execution": {
     "iopub.execute_input": "2022-07-01T13:23:12.959173Z",
     "iopub.status.busy": "2022-07-01T13:23:12.958144Z",
     "iopub.status.idle": "2022-07-01T13:23:13.270879Z",
     "shell.execute_reply": "2022-07-01T13:23:13.270116Z",
     "shell.execute_reply.started": "2022-07-01T05:41:22.58719Z"
    },
    "papermill": {
     "duration": 0.425622,
     "end_time": "2022-07-01T13:23:13.271030",
     "exception": false,
     "start_time": "2022-07-01T13:23:12.845408",
     "status": "completed"
    },
    "tags": []
   },
   "outputs": [
    {
     "data": {
      "text/plain": [
       "<AxesSubplot:xlabel='CoapplicantIncome', ylabel='Density'>"
      ]
     },
     "execution_count": 35,
     "metadata": {},
     "output_type": "execute_result"
    },
    {
     "data": {
      "image/png": "[encoded data removed]",
      "text/plain": [
       "<Figure size 432x288 with 1 Axes>"
      ]
     },
     "metadata": {
      "needs_background": "light"
     },
     "output_type": "display_data"
    }
   ],
   "source": [
    "sns.distplot(train['CoapplicantIncome'])"
   ]
  },
  {
   "cell_type": "markdown",
   "id": "d38dbbbf",
   "metadata": {
    "papermill": {
     "duration": 0.110807,
     "end_time": "2022-07-01T13:23:13.490678",
     "exception": false,
     "start_time": "2022-07-01T13:23:13.379871",
     "status": "completed"
    },
    "tags": []
   },
   "source": [
    "### Target Variable : Loan Status (Converting categorial variables to numerical variables)"
   ]
  },
  {
   "cell_type": "code",
   "execution_count": null,
   "id": "4eba1b55",
   "metadata": {
    "execution": {
     "iopub.execute_input": "2022-07-01T13:23:13.716050Z",
     "iopub.status.busy": "2022-07-01T13:23:13.715358Z",
     "iopub.status.idle": "2022-07-01T13:23:13.717094Z",
     "shell.execute_reply": "2022-07-01T13:23:13.717602Z",
     "shell.execute_reply.started": "2022-07-01T05:41:22.911561Z"
    },
    "papermill": {
     "duration": 0.116734,
     "end_time": "2022-07-01T13:23:13.717783",
     "exception": false,
     "start_time": "2022-07-01T13:23:13.601049",
     "status": "completed"
    },
    "tags": []
   },
   "outputs": [],
   "source": [
    "train['Loan_Status'] = train['Loan_Status'].map( {'N': 0, 'Y': 1 } ).astype(int)"
   ]
  },
  {
   "cell_type": "markdown",
   "id": "787d6313",
   "metadata": {
    "papermill": {
     "duration": 0.108133,
     "end_time": "2022-07-01T13:23:13.936151",
     "exception": false,
     "start_time": "2022-07-01T13:23:13.828018",
     "status": "completed"
    },
    "tags": []
   },
   "source": [
    "### Dropping the ID column"
   ]
  },
  {
   "cell_type": "code",
   "execution_count": null,
   "id": "e183994a",
   "metadata": {
    "execution": {
     "iopub.execute_input": "2022-07-01T13:23:14.165404Z",
     "iopub.status.busy": "2022-07-01T13:23:14.164713Z",
     "iopub.status.idle": "2022-07-01T13:23:14.166402Z",
     "shell.execute_reply": "2022-07-01T13:23:14.166842Z",
     "shell.execute_reply.started": "2022-07-01T05:41:22.921755Z"
    },
    "papermill": {
     "duration": 0.120276,
     "end_time": "2022-07-01T13:23:14.167022",
     "exception": false,
     "start_time": "2022-07-01T13:23:14.046746",
     "status": "completed"
    },
    "tags": []
   },
   "outputs": [],
   "source": [
    "train.drop(['Loan_ID'], axis = 1 , inplace =True)"
   ]
  },
  {
   "cell_type": "markdown",
   "id": "534a3e0a",
   "metadata": {
    "papermill": {
     "duration": 0.108471,
     "end_time": "2022-07-01T13:23:14.384623",
     "exception": false,
     "start_time": "2022-07-01T13:23:14.276152",
     "status": "completed"
    },
    "tags": []
   },
   "source": [
    "### Viewing the Datasets"
   ]
  },
  {
   "cell_type": "code",
   "execution_count": null,
   "id": "93a6bcbc",
   "metadata": {
    "execution": {
     "iopub.execute_input": "2022-07-01T13:23:14.617165Z",
     "iopub.status.busy": "2022-07-01T13:23:14.615923Z",
     "iopub.status.idle": "2022-07-01T13:23:14.620882Z",
     "shell.execute_reply": "2022-07-01T13:23:14.620232Z",
     "shell.execute_reply.started": "2022-07-01T05:41:22.934167Z"
    },
    "papermill": {
     "duration": 0.127492,
     "end_time": "2022-07-01T13:23:14.621023",
     "exception": false,
     "start_time": "2022-07-01T13:23:14.493531",
     "status": "completed"
    },
    "scrolled": true,
    "tags": []
   },
   "outputs": [
    {
     "data": {
      "text/html": [
       "<div>\n",
       "<style scoped>\n",
       "    .dataframe tbody tr th:only-of-type {\n",
       "        vertical-align: middle;\n",
       "    }\n",
       "\n",
       "    .dataframe tbody tr th {\n",
       "        vertical-align: top;\n",
       "    }\n",
       "\n",
       "    .dataframe thead th {\n",
       "        text-align: right;\n",
       "    }\n",
       "</style>\n",
       "<table border=\"1\" class=\"dataframe\">\n",
       "  <thead>\n",
       "    <tr style=\"text-align: right;\">\n",
       "      <th></th>\n",
       "      <th>Dependents</th>\n",
       "      <th>Education</th>\n",
       "      <th>ApplicantIncome</th>\n",
       "      <th>CoapplicantIncome</th>\n",
       "      <th>LoanAmount</th>\n",
       "      <th>Credit_History</th>\n",
       "      <th>Property_Area</th>\n",
       "      <th>Loan_Status</th>\n",
       "      <th>Male</th>\n",
       "      <th>employed_Yes</th>\n",
       "      <th>married_Yes</th>\n",
       "    </tr>\n",
       "  </thead>\n",
       "  <tbody>\n",
       "    <tr>\n",
       "      <th>0</th>\n",
       "      <td>0</td>\n",
       "      <td>0</td>\n",
       "      <td>5849</td>\n",
       "      <td>0.0</td>\n",
       "      <td>146</td>\n",
       "      <td>1.0</td>\n",
       "      <td>0</td>\n",
       "      <td>1</td>\n",
       "      <td>1</td>\n",
       "      <td>0</td>\n",
       "      <td>0</td>\n",
       "    </tr>\n",
       "    <tr>\n",
       "      <th>1</th>\n",
       "      <td>1</td>\n",
       "      <td>0</td>\n",
       "      <td>4583</td>\n",
       "      <td>1508.0</td>\n",
       "      <td>128</td>\n",
       "      <td>1.0</td>\n",
       "      <td>2</td>\n",
       "      <td>0</td>\n",
       "      <td>1</td>\n",
       "      <td>0</td>\n",
       "      <td>1</td>\n",
       "    </tr>\n",
       "    <tr>\n",
       "      <th>2</th>\n",
       "      <td>0</td>\n",
       "      <td>0</td>\n",
       "      <td>3000</td>\n",
       "      <td>0.0</td>\n",
       "      <td>66</td>\n",
       "      <td>1.0</td>\n",
       "      <td>0</td>\n",
       "      <td>1</td>\n",
       "      <td>1</td>\n",
       "      <td>1</td>\n",
       "      <td>1</td>\n",
       "    </tr>\n",
       "    <tr>\n",
       "      <th>3</th>\n",
       "      <td>0</td>\n",
       "      <td>1</td>\n",
       "      <td>2583</td>\n",
       "      <td>2358.0</td>\n",
       "      <td>120</td>\n",
       "      <td>1.0</td>\n",
       "      <td>0</td>\n",
       "      <td>1</td>\n",
       "      <td>1</td>\n",
       "      <td>0</td>\n",
       "      <td>1</td>\n",
       "    </tr>\n",
       "    <tr>\n",
       "      <th>4</th>\n",
       "      <td>0</td>\n",
       "      <td>0</td>\n",
       "      <td>6000</td>\n",
       "      <td>0.0</td>\n",
       "      <td>141</td>\n",
       "      <td>1.0</td>\n",
       "      <td>0</td>\n",
       "      <td>1</td>\n",
       "      <td>1</td>\n",
       "      <td>0</td>\n",
       "      <td>0</td>\n",
       "    </tr>\n",
       "  </tbody>\n",
       "</table>\n",
       "</div>"
      ],
      "text/plain": [
       "   Dependents  Education  ApplicantIncome  CoapplicantIncome  LoanAmount  \\\n",
       "0           0          0             5849                0.0         146   \n",
       "1           1          0             4583             1508.0         128   \n",
       "2           0          0             3000                0.0          66   \n",
       "3           0          1             2583             2358.0         120   \n",
       "4           0          0             6000                0.0         141   \n",
       "\n",
       "   Credit_History  Property_Area  Loan_Status  Male  employed_Yes  married_Yes  \n",
       "0             1.0              0            1     1             0            0  \n",
       "1             1.0              2            0     1             0            1  \n",
       "2             1.0              0            1     1             1            1  \n",
       "3             1.0              0            1     1             0            1  \n",
       "4             1.0              0            1     1             0            0  "
      ]
     },
     "execution_count": 38,
     "metadata": {},
     "output_type": "execute_result"
    }
   ],
   "source": [
    "train.head()"
   ]
  },
  {
   "cell_type": "code",
   "execution_count": null,
   "id": "fbc11267",
   "metadata": {
    "execution": {
     "iopub.execute_input": "2022-07-01T13:23:14.885738Z",
     "iopub.status.busy": "2022-07-01T13:23:14.884998Z",
     "iopub.status.idle": "2022-07-01T13:23:14.898949Z",
     "shell.execute_reply": "2022-07-01T13:23:14.899594Z",
     "shell.execute_reply.started": "2022-07-01T05:41:22.957991Z"
    },
    "papermill": {
     "duration": 0.161695,
     "end_time": "2022-07-01T13:23:14.899796",
     "exception": false,
     "start_time": "2022-07-01T13:23:14.738101",
     "status": "completed"
    },
    "tags": []
   },
   "outputs": [
    {
     "data": {
      "text/html": [
       "<div>\n",
       "<style scoped>\n",
       "    .dataframe tbody tr th:only-of-type {\n",
       "        vertical-align: middle;\n",
       "    }\n",
       "\n",
       "    .dataframe tbody tr th {\n",
       "        vertical-align: top;\n",
       "    }\n",
       "\n",
       "    .dataframe thead th {\n",
       "        text-align: right;\n",
       "    }\n",
       "</style>\n",
       "<table border=\"1\" class=\"dataframe\">\n",
       "  <thead>\n",
       "    <tr style=\"text-align: right;\">\n",
       "      <th></th>\n",
       "      <th>Loan_ID</th>\n",
       "      <th>Dependents</th>\n",
       "      <th>Education</th>\n",
       "      <th>ApplicantIncome</th>\n",
       "      <th>CoapplicantIncome</th>\n",
       "      <th>LoanAmount</th>\n",
       "      <th>Credit_History</th>\n",
       "      <th>Property_Area</th>\n",
       "      <th>Male</th>\n",
       "      <th>employed_Yes</th>\n",
       "      <th>married_Yes</th>\n",
       "    </tr>\n",
       "  </thead>\n",
       "  <tbody>\n",
       "    <tr>\n",
       "      <th>0</th>\n",
       "      <td>LP001015</td>\n",
       "      <td>0</td>\n",
       "      <td>0</td>\n",
       "      <td>5720</td>\n",
       "      <td>0</td>\n",
       "      <td>110</td>\n",
       "      <td>1.0</td>\n",
       "      <td>0</td>\n",
       "      <td>1</td>\n",
       "      <td>0</td>\n",
       "      <td>1</td>\n",
       "    </tr>\n",
       "    <tr>\n",
       "      <th>1</th>\n",
       "      <td>LP001022</td>\n",
       "      <td>1</td>\n",
       "      <td>0</td>\n",
       "      <td>3076</td>\n",
       "      <td>1500</td>\n",
       "      <td>126</td>\n",
       "      <td>1.0</td>\n",
       "      <td>0</td>\n",
       "      <td>1</td>\n",
       "      <td>0</td>\n",
       "      <td>1</td>\n",
       "    </tr>\n",
       "    <tr>\n",
       "      <th>2</th>\n",
       "      <td>LP001031</td>\n",
       "      <td>2</td>\n",
       "      <td>0</td>\n",
       "      <td>5000</td>\n",
       "      <td>1800</td>\n",
       "      <td>208</td>\n",
       "      <td>1.0</td>\n",
       "      <td>0</td>\n",
       "      <td>1</td>\n",
       "      <td>0</td>\n",
       "      <td>1</td>\n",
       "    </tr>\n",
       "    <tr>\n",
       "      <th>3</th>\n",
       "      <td>LP001035</td>\n",
       "      <td>2</td>\n",
       "      <td>0</td>\n",
       "      <td>2340</td>\n",
       "      <td>2546</td>\n",
       "      <td>100</td>\n",
       "      <td>1.0</td>\n",
       "      <td>0</td>\n",
       "      <td>1</td>\n",
       "      <td>0</td>\n",
       "      <td>1</td>\n",
       "    </tr>\n",
       "    <tr>\n",
       "      <th>4</th>\n",
       "      <td>LP001051</td>\n",
       "      <td>0</td>\n",
       "      <td>1</td>\n",
       "      <td>3276</td>\n",
       "      <td>0</td>\n",
       "      <td>78</td>\n",
       "      <td>1.0</td>\n",
       "      <td>0</td>\n",
       "      <td>1</td>\n",
       "      <td>0</td>\n",
       "      <td>0</td>\n",
       "    </tr>\n",
       "  </tbody>\n",
       "</table>\n",
       "</div>"
      ],
      "text/plain": [
       "    Loan_ID  Dependents  Education  ApplicantIncome  CoapplicantIncome  \\\n",
       "0  LP001015           0          0             5720                  0   \n",
       "1  LP001022           1          0             3076               1500   \n",
       "2  LP001031           2          0             5000               1800   \n",
       "3  LP001035           2          0             2340               2546   \n",
       "4  LP001051           0          1             3276                  0   \n",
       "\n",
       "   LoanAmount  Credit_History  Property_Area  Male  employed_Yes  married_Yes  \n",
       "0         110             1.0              0     1             0            1  \n",
       "1         126             1.0              0     1             0            1  \n",
       "2         208             1.0              0     1             0            1  \n",
       "3         100             1.0              0     1             0            1  \n",
       "4          78             1.0              0     1             0            0  "
      ]
     },
     "execution_count": 39,
     "metadata": {},
     "output_type": "execute_result"
    }
   ],
   "source": [
    "test.head()"
   ]
  },
  {
   "cell_type": "markdown",
   "id": "c3b837f4",
   "metadata": {
    "papermill": {
     "duration": 0.115211,
     "end_time": "2022-07-01T13:23:15.126419",
     "exception": false,
     "start_time": "2022-07-01T13:23:15.011208",
     "status": "completed"
    },
    "tags": []
   },
   "source": [
    "# Visualizing the Correlations and Relations"
   ]
  },
  {
   "cell_type": "markdown",
   "id": "22c0a717",
   "metadata": {
    "papermill": {
     "duration": 0.111986,
     "end_time": "2022-07-01T13:23:15.350152",
     "exception": false,
     "start_time": "2022-07-01T13:23:15.238166",
     "status": "completed"
    },
    "tags": []
   },
   "source": [
    "### Plot between LoanAmount, Applicant Income, Employement and Gender\n",
    "\n",
    "*What is the relation of Loan taken between men and women?<br> Did the employed ones were greater in number to take Loan ?<br> What is distribution of Loan Amount and Income?*"
   ]
  },
  {
   "cell_type": "code",
   "execution_count": null,
   "id": "aceb34a0",
   "metadata": {
    "execution": {
     "iopub.execute_input": "2022-07-01T13:23:15.578401Z",
     "iopub.status.busy": "2022-07-01T13:23:15.577414Z",
     "iopub.status.idle": "2022-07-01T13:23:16.889337Z",
     "shell.execute_reply": "2022-07-01T13:23:16.888775Z",
     "shell.execute_reply.started": "2022-07-01T05:41:22.973569Z"
    },
    "papermill": {
     "duration": 1.429046,
     "end_time": "2022-07-01T13:23:16.889500",
     "exception": false,
     "start_time": "2022-07-01T13:23:15.460454",
     "status": "completed"
    },
    "tags": []
   },
   "outputs": [
    {
     "data": {
      "text/plain": [
       "<seaborn.axisgrid.FacetGrid at 0x7f1884657f90>"
      ]
     },
     "execution_count": 40,
     "metadata": {},
     "output_type": "execute_result"
    },
    {
     "data": {
      "image/png": "[encoded data removed]",
      "text/plain": [
       "<Figure size 1079.17x432 with 2 Axes>"
      ]
     },
     "metadata": {
      "needs_background": "light"
     },
     "output_type": "display_data"
    }
   ],
   "source": [
    "g = sns.lmplot(x='ApplicantIncome',y='LoanAmount',data= train , col='employed_Yes', hue='Male',\n",
    "          palette= [\"Red\" , \"Blue\",\"Yellow\"] ,aspect=1.2,size=6)\n",
    "g.set(ylim=(0, 800))\n",
    "##Relation Between the Male or female Applicant's income , Loan taken and Self employment."
   ]
  },
  {
   "cell_type": "markdown",
   "id": "9bff578b",
   "metadata": {
    "papermill": {
     "duration": 0.114713,
     "end_time": "2022-07-01T13:23:17.119735",
     "exception": false,
     "start_time": "2022-07-01T13:23:17.005022",
     "status": "completed"
    },
    "tags": []
   },
   "source": [
    "### Above graph tells:\n",
    "    - The male applicants take more amount of loan than female.\n",
    "    - The males are higher in number of \"NOT self employed\" category.\n",
    "    - The amount is still larger in the income range in (0 to 20000).\n",
    "    - Also we observe that majority of applicants are NOT self employed.\n",
    "    - Highest Loan amount taken is by the female applicant of about 700 which is NOT self employed.\n",
    "    - The majority of income taken is about 0-200 with income in the range 0-20000. \n",
    "    - The line plotted shows that with increase in income the amount of loan increases with almost same slope for the case of women in both the cases but a slightely lesser slope in the case of men in Self- Employed category as compared to non-self employed.\n"
   ]
  },
  {
   "cell_type": "markdown",
   "id": "03868269",
   "metadata": {
    "papermill": {
     "duration": 0.112769,
     "end_time": "2022-07-01T13:23:17.347721",
     "exception": false,
     "start_time": "2022-07-01T13:23:17.234952",
     "status": "completed"
    },
    "tags": []
   },
   "source": [
    "### Boxplots for  relation between Property Area, Amount of Loan and Education qualification "
   ]
  },
  {
   "cell_type": "markdown",
   "id": "299c0e97",
   "metadata": {
    "papermill": {
     "duration": 0.112058,
     "end_time": "2022-07-01T13:23:17.574192",
     "exception": false,
     "start_time": "2022-07-01T13:23:17.462134",
     "status": "completed"
    },
    "tags": []
   },
   "source": [
    "- Property_Area: \n",
    "    - `Urban      :0`\n",
    "    - `Semiurban  :1`\n",
    "    - `Rural      :2`"
   ]
  },
  {
   "cell_type": "code",
   "execution_count": null,
   "id": "20118e5c",
   "metadata": {
    "execution": {
     "iopub.execute_input": "2022-07-01T13:23:17.811521Z",
     "iopub.status.busy": "2022-07-01T13:23:17.810801Z",
     "iopub.status.idle": "2022-07-01T13:23:18.150030Z",
     "shell.execute_reply": "2022-07-01T13:23:18.149351Z",
     "shell.execute_reply.started": "2022-07-01T05:41:24.298182Z"
    },
    "papermill": {
     "duration": 0.461807,
     "end_time": "2022-07-01T13:23:18.150174",
     "exception": false,
     "start_time": "2022-07-01T13:23:17.688367",
     "status": "completed"
    },
    "tags": []
   },
   "outputs": [
    {
     "data": {
      "text/plain": [
       "<AxesSubplot:xlabel='Property_Area', ylabel='LoanAmount'>"
      ]
     },
     "execution_count": 41,
     "metadata": {},
     "output_type": "execute_result"
    },
    {
     "data": {
      "image/png": "[encoded data removed]",
      "text/plain": [
       "<Figure size 720x360 with 1 Axes>"
      ]
     },
     "metadata": {
      "needs_background": "light"
     },
     "output_type": "display_data"
    }
   ],
   "source": [
    "plt.figure(figsize=(10,5))\n",
    "sns.boxplot(x=\"Property_Area\", y=\"LoanAmount\", hue=\"Education\",data=train, palette=\"coolwarm\")"
   ]
  },
  {
   "cell_type": "markdown",
   "id": "30025189",
   "metadata": {
    "papermill": {
     "duration": 0.118791,
     "end_time": "2022-07-01T13:23:18.387959",
     "exception": false,
     "start_time": "2022-07-01T13:23:18.269168",
     "status": "completed"
    },
    "tags": []
   },
   "source": [
    "### The above boxplot signifies that,\n",
    "    - In the Urban area the non graduates take slightly more loan than graduates. \n",
    "    - In the Rural and semiurban area the graduates take more amount of Loan than non graduates \n",
    "    - The higher values of Loan are mostly from Urban area \n",
    "    - The semiurban area and rural area both have one unusual Loan amount close to zero.\n"
   ]
  },
  {
   "cell_type": "markdown",
   "id": "3ae1bad2",
   "metadata": {
    "papermill": {
     "duration": 0.11867,
     "end_time": "2022-07-01T13:23:18.623684",
     "exception": false,
     "start_time": "2022-07-01T13:23:18.505014",
     "status": "completed"
    },
    "tags": []
   },
   "source": [
    "### Relation between Credit History and Loan status."
   ]
  },
  {
   "cell_type": "code",
   "execution_count": null,
   "id": "8acc79aa",
   "metadata": {
    "execution": {
     "iopub.execute_input": "2022-07-01T13:23:18.866580Z",
     "iopub.status.busy": "2022-07-01T13:23:18.865710Z",
     "iopub.status.idle": "2022-07-01T13:23:18.869091Z",
     "shell.execute_reply": "2022-07-01T13:23:18.869627Z",
     "shell.execute_reply.started": "2022-07-01T05:41:24.645323Z"
    },
    "papermill": {
     "duration": 0.13037,
     "end_time": "2022-07-01T13:23:18.869805",
     "exception": false,
     "start_time": "2022-07-01T13:23:18.739435",
     "status": "completed"
    },
    "tags": []
   },
   "outputs": [
    {
     "data": {
      "text/plain": [
       "1.0    525\n",
       "0.0     89\n",
       "Name: Credit_History, dtype: int64"
      ]
     },
     "execution_count": 42,
     "metadata": {},
     "output_type": "execute_result"
    }
   ],
   "source": [
    "train.Credit_History.value_counts()"
   ]
  },
  {
   "cell_type": "code",
   "execution_count": null,
   "id": "7d4ecbb8",
   "metadata": {
    "execution": {
     "iopub.execute_input": "2022-07-01T13:23:19.137603Z",
     "iopub.status.busy": "2022-07-01T13:23:19.136547Z",
     "iopub.status.idle": "2022-07-01T13:23:19.397183Z",
     "shell.execute_reply": "2022-07-01T13:23:19.397689Z",
     "shell.execute_reply.started": "2022-07-01T05:41:24.657166Z"
    },
    "papermill": {
     "duration": 0.39615,
     "end_time": "2022-07-01T13:23:19.397870",
     "exception": false,
     "start_time": "2022-07-01T13:23:19.001720",
     "status": "completed"
    },
    "tags": []
   },
   "outputs": [
    {
     "data": {
      "text/plain": [
       "<AxesSubplot:xlabel='Credit_History'>"
      ]
     },
     "execution_count": 43,
     "metadata": {},
     "output_type": "execute_result"
    },
    {
     "data": {
      "image/png": "[encoded data removed]",
      "text/plain": [
       "<Figure size 432x288 with 1 Axes>"
      ]
     },
     "metadata": {
      "needs_background": "light"
     },
     "output_type": "display_data"
    }
   ],
   "source": [
    "lc = pd.crosstab(train['Credit_History'], train['Loan_Status'])\n",
    "lc.plot(kind='bar', stacked=True, color=['red','blue'], grid=False)"
   ]
  },
  {
   "cell_type": "markdown",
   "id": "297dc715",
   "metadata": {
    "papermill": {
     "duration": 0.120503,
     "end_time": "2022-07-01T13:23:19.635403",
     "exception": false,
     "start_time": "2022-07-01T13:23:19.514900",
     "status": "completed"
    },
    "tags": []
   },
   "source": [
    "- The credit history vs Loan Status indicates:\n",
    "    - The good credit history applicants have more chances of getting Loan.\n",
    "    - With better credit History the Loan amount given was greater too.\n",
    "    - But many were not given loan in the range 0-100\n",
    "    - The applicant with poor credit history were handled in the range 0-100 only."
   ]
  },
  {
   "cell_type": "code",
   "execution_count": null,
   "id": "0e19c3db",
   "metadata": {
    "execution": {
     "iopub.execute_input": "2022-07-01T13:23:19.892935Z",
     "iopub.status.busy": "2022-07-01T13:23:19.892176Z",
     "iopub.status.idle": "2022-07-01T13:23:20.751770Z",
     "shell.execute_reply": "2022-07-01T13:23:20.752278Z",
     "shell.execute_reply.started": "2022-07-01T05:41:24.913736Z"
    },
    "papermill": {
     "duration": 0.999115,
     "end_time": "2022-07-01T13:23:20.752510",
     "exception": false,
     "start_time": "2022-07-01T13:23:19.753395",
     "status": "completed"
    },
    "tags": []
   },
   "outputs": [
    {
     "data": {
      "text/plain": [
       "<AxesSubplot:>"
      ]
     },
     "execution_count": 44,
     "metadata": {},
     "output_type": "execute_result"
    },
    {
     "data": {
      "image/png": "[encoded data removed]",
      "text/plain": [
       "<Figure size 648x432 with 2 Axes>"
      ]
     },
     "metadata": {
      "needs_background": "light"
     },
     "output_type": "display_data"
    }
   ],
   "source": [
    "plt.figure(figsize=(9,6))\n",
    "sns.heatmap(train.drop('Loan_Status',axis=1).corr(), vmax=0.6, square=True, annot=True)"
   ]
  },
  {
   "cell_type": "markdown",
   "id": "207043d9",
   "metadata": {
    "papermill": {
     "duration": 0.123317,
     "end_time": "2022-07-01T13:23:20.999601",
     "exception": false,
     "start_time": "2022-07-01T13:23:20.876284",
     "status": "completed"
    },
    "tags": []
   },
   "source": [
    "# Modelling"
   ]
  },
  {
   "cell_type": "markdown",
   "id": "003c692d",
   "metadata": {
    "papermill": {
     "duration": 0.119475,
     "end_time": "2022-07-01T13:23:21.242255",
     "exception": false,
     "start_time": "2022-07-01T13:23:21.122780",
     "status": "completed"
    },
    "tags": []
   },
   "source": [
    "The problem is of **Classification** as observed and concluded from the data and visualisations."
   ]
  },
  {
   "cell_type": "code",
   "execution_count": null,
   "id": "36380a9d",
   "metadata": {
    "execution": {
     "iopub.execute_input": "2022-07-01T13:23:21.490374Z",
     "iopub.status.busy": "2022-07-01T13:23:21.489626Z",
     "iopub.status.idle": "2022-07-01T13:23:21.492310Z",
     "shell.execute_reply": "2022-07-01T13:23:21.492938Z",
     "shell.execute_reply.started": "2022-07-01T05:41:25.789914Z"
    },
    "papermill": {
     "duration": 0.13087,
     "end_time": "2022-07-01T13:23:21.493108",
     "exception": false,
     "start_time": "2022-07-01T13:23:21.362238",
     "status": "completed"
    },
    "tags": []
   },
   "outputs": [],
   "source": [
    "X = train.drop('Loan_Status' , axis = 1 )\n",
    "y = train['Loan_Status']\n",
    "\n",
    "X_train ,X_test , y_train , y_test = train_test_split(X , y , test_size = 0.3 , random_state =102)"
   ]
  },
  {
   "cell_type": "markdown",
   "id": "31ec0885",
   "metadata": {
    "papermill": {
     "duration": 0.119612,
     "end_time": "2022-07-01T13:23:21.731947",
     "exception": false,
     "start_time": "2022-07-01T13:23:21.612335",
     "status": "completed"
    },
    "tags": []
   },
   "source": [
    "### Logistic Regression"
   ]
  },
  {
   "cell_type": "code",
   "execution_count": null,
   "id": "b06299c3",
   "metadata": {
    "execution": {
     "iopub.execute_input": "2022-07-01T13:23:21.973678Z",
     "iopub.status.busy": "2022-07-01T13:23:21.972893Z",
     "iopub.status.idle": "2022-07-01T13:23:22.013131Z",
     "shell.execute_reply": "2022-07-01T13:23:22.012599Z",
     "shell.execute_reply.started": "2022-07-01T05:41:25.800538Z"
    },
    "papermill": {
     "duration": 0.161562,
     "end_time": "2022-07-01T13:23:22.013279",
     "exception": false,
     "start_time": "2022-07-01T13:23:21.851717",
     "status": "completed"
    },
    "tags": []
   },
   "outputs": [
    {
     "data": {
      "text/plain": [
       "83.78378378378379"
      ]
     },
     "execution_count": 46,
     "metadata": {},
     "output_type": "execute_result"
    }
   ],
   "source": [
    "from sklearn.linear_model import LogisticRegression\n",
    "logmodel = LogisticRegression()\n",
    "logmodel.fit(X_train , y_train)\n",
    "pred_l = logmodel.predict(X_test)\n",
    "acc_l = accuracy_score(y_test , pred_l)*100\n",
    "acc_l"
   ]
  },
  {
   "cell_type": "markdown",
   "id": "14204466",
   "metadata": {
    "papermill": {
     "duration": 0.119322,
     "end_time": "2022-07-01T13:23:22.253728",
     "exception": false,
     "start_time": "2022-07-01T13:23:22.134406",
     "status": "completed"
    },
    "tags": []
   },
   "source": [
    "### Random Forest"
   ]
  },
  {
   "cell_type": "code",
   "execution_count": null,
   "id": "af988dc4",
   "metadata": {
    "execution": {
     "iopub.execute_input": "2022-07-01T13:23:22.495144Z",
     "iopub.status.busy": "2022-07-01T13:23:22.494498Z",
     "iopub.status.idle": "2022-07-01T13:23:22.714540Z",
     "shell.execute_reply": "2022-07-01T13:23:22.713889Z",
     "shell.execute_reply.started": "2022-07-01T05:41:25.852149Z"
    },
    "papermill": {
     "duration": 0.3418,
     "end_time": "2022-07-01T13:23:22.714695",
     "exception": false,
     "start_time": "2022-07-01T13:23:22.372895",
     "status": "completed"
    },
    "tags": []
   },
   "outputs": [
    {
     "data": {
      "text/plain": [
       "80.54054054054053"
      ]
     },
     "execution_count": 47,
     "metadata": {},
     "output_type": "execute_result"
    }
   ],
   "source": [
    "\n",
    "random_forest = RandomForestClassifier(n_estimators= 100)\n",
    "random_forest.fit(X_train, y_train)\n",
    "pred_rf = random_forest.predict(X_test)\n",
    "acc_rf = accuracy_score(y_test , pred_rf)*100\n",
    "acc_rf"
   ]
  },
  {
   "cell_type": "markdown",
   "id": "60ffb3ee",
   "metadata": {
    "papermill": {
     "duration": 0.120501,
     "end_time": "2022-07-01T13:23:22.955595",
     "exception": false,
     "start_time": "2022-07-01T13:23:22.835094",
     "status": "completed"
    },
    "tags": []
   },
   "source": [
    "### K-Nearest Neighbors"
   ]
  },
  {
   "cell_type": "code",
   "execution_count": null,
   "id": "46bf6940",
   "metadata": {
    "execution": {
     "iopub.execute_input": "2022-07-01T13:23:23.200262Z",
     "iopub.status.busy": "2022-07-01T13:23:23.199596Z",
     "iopub.status.idle": "2022-07-01T13:23:23.220089Z",
     "shell.execute_reply": "2022-07-01T13:23:23.220642Z",
     "shell.execute_reply.started": "2022-07-01T05:41:26.079469Z"
    },
    "papermill": {
     "duration": 0.144375,
     "end_time": "2022-07-01T13:23:23.220865",
     "exception": false,
     "start_time": "2022-07-01T13:23:23.076490",
     "status": "completed"
    },
    "tags": []
   },
   "outputs": [
    {
     "data": {
      "text/plain": [
       "61.08108108108108"
      ]
     },
     "execution_count": 48,
     "metadata": {},
     "output_type": "execute_result"
    }
   ],
   "source": [
    "\n",
    "knn = KNeighborsClassifier(n_neighbors = 3)\n",
    "knn.fit(X_train, y_train)\n",
    "pred_knn = knn.predict(X_test)\n",
    "acc_knn = accuracy_score(y_test , pred_knn)*100\n",
    "acc_knn"
   ]
  },
  {
   "cell_type": "markdown",
   "id": "daac5e3f",
   "metadata": {
    "papermill": {
     "duration": 0.121167,
     "end_time": "2022-07-01T13:23:23.466841",
     "exception": false,
     "start_time": "2022-07-01T13:23:23.345674",
     "status": "completed"
    },
    "tags": []
   },
   "source": [
    "### Naive Bayes"
   ]
  },
  {
   "cell_type": "code",
   "execution_count": null,
   "id": "96f5e040",
   "metadata": {
    "execution": {
     "iopub.execute_input": "2022-07-01T13:23:23.713132Z",
     "iopub.status.busy": "2022-07-01T13:23:23.712236Z",
     "iopub.status.idle": "2022-07-01T13:23:23.722859Z",
     "shell.execute_reply": "2022-07-01T13:23:23.723403Z",
     "shell.execute_reply.started": "2022-07-01T05:41:26.108869Z"
    },
    "papermill": {
     "duration": 0.135505,
     "end_time": "2022-07-01T13:23:23.723581",
     "exception": false,
     "start_time": "2022-07-01T13:23:23.588076",
     "status": "completed"
    },
    "tags": []
   },
   "outputs": [
    {
     "data": {
      "text/plain": [
       "82.16216216216216"
      ]
     },
     "execution_count": 49,
     "metadata": {},
     "output_type": "execute_result"
    }
   ],
   "source": [
    "gaussian = GaussianNB()\n",
    "gaussian.fit(X_train, y_train)\n",
    "pred_gb = gaussian.predict(X_test)\n",
    "acc_gb = accuracy_score(y_test , pred_gb)*100\n",
    "acc_gb"
   ]
  },
  {
   "cell_type": "markdown",
   "id": "ae6e54e5",
   "metadata": {
    "papermill": {
     "duration": 0.123704,
     "end_time": "2022-07-01T13:23:23.969147",
     "exception": false,
     "start_time": "2022-07-01T13:23:23.845443",
     "status": "completed"
    },
    "tags": []
   },
   "source": [
    "### SVM"
   ]
  },
  {
   "cell_type": "code",
   "execution_count": null,
   "id": "887d770c",
   "metadata": {
    "execution": {
     "iopub.execute_input": "2022-07-01T13:23:24.215241Z",
     "iopub.status.busy": "2022-07-01T13:23:24.214562Z",
     "iopub.status.idle": "2022-07-01T13:23:24.238783Z",
     "shell.execute_reply": "2022-07-01T13:23:24.239336Z",
     "shell.execute_reply.started": "2022-07-01T05:41:26.126434Z"
    },
    "papermill": {
     "duration": 0.148102,
     "end_time": "2022-07-01T13:23:24.239516",
     "exception": false,
     "start_time": "2022-07-01T13:23:24.091414",
     "status": "completed"
    },
    "tags": []
   },
   "outputs": [
    {
     "data": {
      "text/plain": [
       "70.27027027027027"
      ]
     },
     "execution_count": 50,
     "metadata": {},
     "output_type": "execute_result"
    }
   ],
   "source": [
    "svc = SVC()\n",
    "svc.fit(X_train, y_train)\n",
    "pred_svm = svc.predict(X_test)\n",
    "acc_svm = accuracy_score(y_test , pred_svm)*100\n",
    "acc_svm"
   ]
  },
  {
   "cell_type": "markdown",
   "id": "e53e894a",
   "metadata": {
    "papermill": {
     "duration": 0.120714,
     "end_time": "2022-07-01T13:23:24.483246",
     "exception": false,
     "start_time": "2022-07-01T13:23:24.362532",
     "status": "completed"
    },
    "tags": []
   },
   "source": [
    "### Gradient Boosting Classifier"
   ]
  },
  {
   "cell_type": "code",
   "execution_count": null,
   "id": "5c89804e",
   "metadata": {
    "execution": {
     "iopub.execute_input": "2022-07-01T13:23:24.728973Z",
     "iopub.status.busy": "2022-07-01T13:23:24.727976Z",
     "iopub.status.idle": "2022-07-01T13:23:24.838084Z",
     "shell.execute_reply": "2022-07-01T13:23:24.838652Z",
     "shell.execute_reply.started": "2022-07-01T05:41:26.155533Z"
    },
    "papermill": {
     "duration": 0.234639,
     "end_time": "2022-07-01T13:23:24.838819",
     "exception": false,
     "start_time": "2022-07-01T13:23:24.604180",
     "status": "completed"
    },
    "tags": []
   },
   "outputs": [
    {
     "data": {
      "text/plain": [
       "82.16216216216216"
      ]
     },
     "execution_count": 51,
     "metadata": {},
     "output_type": "execute_result"
    }
   ],
   "source": [
    "gbk = GradientBoostingClassifier()\n",
    "gbk.fit(X_train, y_train)\n",
    "pred_gbc = gbk.predict(X_test)\n",
    "acc_gbc = accuracy_score(y_test , pred_gbc)*100\n",
    "acc_gbc"
   ]
  },
  {
   "cell_type": "code",
   "execution_count": null,
   "id": "159cf039",
   "metadata": {
    "execution": {
     "iopub.execute_input": "2022-07-01T13:23:25.090902Z",
     "iopub.status.busy": "2022-07-01T13:23:25.089907Z",
     "iopub.status.idle": "2022-07-01T13:23:25.102136Z",
     "shell.execute_reply": "2022-07-01T13:23:25.102711Z",
     "shell.execute_reply.started": "2022-07-01T05:41:26.268016Z"
    },
    "papermill": {
     "duration": 0.139558,
     "end_time": "2022-07-01T13:23:25.102879",
     "exception": false,
     "start_time": "2022-07-01T13:23:24.963321",
     "status": "completed"
    },
    "tags": []
   },
   "outputs": [
    {
     "data": {
      "text/html": [
       "<div>\n",
       "<style scoped>\n",
       "    .dataframe tbody tr th:only-of-type {\n",
       "        vertical-align: middle;\n",
       "    }\n",
       "\n",
       "    .dataframe tbody tr th {\n",
       "        vertical-align: top;\n",
       "    }\n",
       "\n",
       "    .dataframe thead th {\n",
       "        text-align: right;\n",
       "    }\n",
       "</style>\n",
       "<table border=\"1\" class=\"dataframe\">\n",
       "  <thead>\n",
       "    <tr style=\"text-align: right;\">\n",
       "      <th></th>\n",
       "      <th>Model</th>\n",
       "      <th>Score</th>\n",
       "    </tr>\n",
       "  </thead>\n",
       "  <tbody>\n",
       "    <tr>\n",
       "      <th>0</th>\n",
       "      <td>Logistic Regression</td>\n",
       "      <td>83.783784</td>\n",
       "    </tr>\n",
       "    <tr>\n",
       "      <th>3</th>\n",
       "      <td>Naive Bayes</td>\n",
       "      <td>82.162162</td>\n",
       "    </tr>\n",
       "    <tr>\n",
       "      <th>5</th>\n",
       "      <td>Gradient Boosting Classifier</td>\n",
       "      <td>82.162162</td>\n",
       "    </tr>\n",
       "    <tr>\n",
       "      <th>1</th>\n",
       "      <td>Random Forrest</td>\n",
       "      <td>80.540541</td>\n",
       "    </tr>\n",
       "    <tr>\n",
       "      <th>4</th>\n",
       "      <td>SVM</td>\n",
       "      <td>70.270270</td>\n",
       "    </tr>\n",
       "    <tr>\n",
       "      <th>2</th>\n",
       "      <td>K- Nearest Neighbour</td>\n",
       "      <td>61.081081</td>\n",
       "    </tr>\n",
       "  </tbody>\n",
       "</table>\n",
       "</div>"
      ],
      "text/plain": [
       "                          Model      Score\n",
       "0           Logistic Regression  83.783784\n",
       "3                   Naive Bayes  82.162162\n",
       "5  Gradient Boosting Classifier  82.162162\n",
       "1                Random Forrest  80.540541\n",
       "4                           SVM  70.270270\n",
       "2          K- Nearest Neighbour  61.081081"
      ]
     },
     "execution_count": 52,
     "metadata": {},
     "output_type": "execute_result"
    }
   ],
   "source": [
    "## Arranging the Accuracy results\n",
    "models = pd.DataFrame({\n",
    "    'Model': ['Logistic Regression', 'Random Forrest','K- Nearest Neighbour' ,\n",
    "             'Naive Bayes' , 'SVM','Gradient Boosting Classifier'],\n",
    "    'Score': [acc_l , acc_rf , acc_knn , acc_gb ,acc_svm ,acc_gbc ]})\n",
    "models.sort_values(by='Score', ascending=False)"
   ]
  },
  {
   "cell_type": "markdown",
   "id": "d42b666b",
   "metadata": {
    "papermill": {
     "duration": 0.121243,
     "end_time": "2022-07-01T13:23:25.347649",
     "exception": false,
     "start_time": "2022-07-01T13:23:25.226406",
     "status": "completed"
    },
    "tags": []
   },
   "source": [
    "## The highest classification accuracy is shown by Logistic Regression => 83.78%\n",
    "\n",
    "### Let us Check the feature importance"
   ]
  },
  {
   "cell_type": "code",
   "execution_count": null,
   "id": "3e0fa302",
   "metadata": {
    "execution": {
     "iopub.execute_input": "2022-07-01T13:23:25.593745Z",
     "iopub.status.busy": "2022-07-01T13:23:25.592700Z",
     "iopub.status.idle": "2022-07-01T13:23:25.614699Z",
     "shell.execute_reply": "2022-07-01T13:23:25.615197Z",
     "shell.execute_reply.started": "2022-07-01T05:41:26.284892Z"
    },
    "papermill": {
     "duration": 0.146712,
     "end_time": "2022-07-01T13:23:25.615381",
     "exception": false,
     "start_time": "2022-07-01T13:23:25.468669",
     "status": "completed"
    },
    "tags": []
   },
   "outputs": [
    {
     "data": {
      "text/html": [
       "<div>\n",
       "<style scoped>\n",
       "    .dataframe tbody tr th:only-of-type {\n",
       "        vertical-align: middle;\n",
       "    }\n",
       "\n",
       "    .dataframe tbody tr th {\n",
       "        vertical-align: top;\n",
       "    }\n",
       "\n",
       "    .dataframe thead th {\n",
       "        text-align: right;\n",
       "    }\n",
       "</style>\n",
       "<table border=\"1\" class=\"dataframe\">\n",
       "  <thead>\n",
       "    <tr style=\"text-align: right;\">\n",
       "      <th></th>\n",
       "      <th>Importance</th>\n",
       "    </tr>\n",
       "    <tr>\n",
       "      <th>Features</th>\n",
       "      <th></th>\n",
       "    </tr>\n",
       "  </thead>\n",
       "  <tbody>\n",
       "    <tr>\n",
       "      <th>Credit_History</th>\n",
       "      <td>0.235</td>\n",
       "    </tr>\n",
       "    <tr>\n",
       "      <th>ApplicantIncome</th>\n",
       "      <td>0.224</td>\n",
       "    </tr>\n",
       "    <tr>\n",
       "      <th>LoanAmount</th>\n",
       "      <td>0.213</td>\n",
       "    </tr>\n",
       "    <tr>\n",
       "      <th>CoapplicantIncome</th>\n",
       "      <td>0.129</td>\n",
       "    </tr>\n",
       "    <tr>\n",
       "      <th>Dependents</th>\n",
       "      <td>0.054</td>\n",
       "    </tr>\n",
       "    <tr>\n",
       "      <th>Property_Area</th>\n",
       "      <td>0.051</td>\n",
       "    </tr>\n",
       "    <tr>\n",
       "      <th>Education</th>\n",
       "      <td>0.026</td>\n",
       "    </tr>\n",
       "    <tr>\n",
       "      <th>Male</th>\n",
       "      <td>0.025</td>\n",
       "    </tr>\n",
       "    <tr>\n",
       "      <th>married_Yes</th>\n",
       "      <td>0.025</td>\n",
       "    </tr>\n",
       "    <tr>\n",
       "      <th>employed_Yes</th>\n",
       "      <td>0.019</td>\n",
       "    </tr>\n",
       "  </tbody>\n",
       "</table>\n",
       "</div>"
      ],
      "text/plain": [
       "                   Importance\n",
       "Features                     \n",
       "Credit_History          0.235\n",
       "ApplicantIncome         0.224\n",
       "LoanAmount              0.213\n",
       "CoapplicantIncome       0.129\n",
       "Dependents              0.054\n",
       "Property_Area           0.051\n",
       "Education               0.026\n",
       "Male                    0.025\n",
       "married_Yes             0.025\n",
       "employed_Yes            0.019"
      ]
     },
     "execution_count": 53,
     "metadata": {},
     "output_type": "execute_result"
    }
   ],
   "source": [
    "importances = pd.DataFrame({'Features':X_train.columns,'Importance':np.round(random_forest.feature_importances_,3)})\n",
    "importances = importances.sort_values('Importance',ascending=False).set_index('Features')\n",
    "importances.head(11) "
   ]
  },
  {
   "cell_type": "code",
   "execution_count": null,
   "id": "cc4e6111",
   "metadata": {
    "execution": {
     "iopub.execute_input": "2022-07-01T13:23:25.903255Z",
     "iopub.status.busy": "2022-07-01T13:23:25.901933Z",
     "iopub.status.idle": "2022-07-01T13:23:26.130246Z",
     "shell.execute_reply": "2022-07-01T13:23:26.129699Z",
     "shell.execute_reply.started": "2022-07-01T05:41:26.315218Z"
    },
    "papermill": {
     "duration": 0.389371,
     "end_time": "2022-07-01T13:23:26.130433",
     "exception": false,
     "start_time": "2022-07-01T13:23:25.741062",
     "status": "completed"
    },
    "tags": []
   },
   "outputs": [
    {
     "data": {
      "text/plain": [
       "<AxesSubplot:xlabel='Features'>"
      ]
     },
     "execution_count": 54,
     "metadata": {},
     "output_type": "execute_result"
    },
    {
     "data": {
      "image/png": "[encoded data removed]",
      "text/plain": [
       "<Figure size 432x288 with 1 Axes>"
      ]
     },
     "metadata": {
      "needs_background": "light"
     },
     "output_type": "display_data"
    }
   ],
   "source": [
    "importances.plot.bar()"
   ]
  },
  {
   "cell_type": "markdown",
   "id": "b7ec2ab7",
   "metadata": {
    "papermill": {
     "duration": 0.123475,
     "end_time": "2022-07-01T13:23:26.381586",
     "exception": false,
     "start_time": "2022-07-01T13:23:26.258111",
     "status": "completed"
    },
    "tags": []
   },
   "source": [
    "> Credit History has the maximum importance and Employment has the least!"
   ]
  },
  {
   "cell_type": "markdown",
   "id": "795abcae",
   "metadata": {
    "papermill": {
     "duration": 0.123465,
     "end_time": "2022-07-01T13:23:26.629226",
     "exception": false,
     "start_time": "2022-07-01T13:23:26.505761",
     "status": "completed"
    },
    "tags": []
   },
   "source": [
    "# Conclusion\n",
    "\n",
    "The Loan status has better relation with features such as Credit History, Applicant's Income, Loan Amount needed by them, Family status(Depenedents) and Property Area which are generally considered by the loan providing organisations. These factors are hence used to take correct decisions to provide loan status or not. This data analysis hence gives a realisation of features and the relation between them from the older decision examples hence giving a learning to predict the class of the unseen data. "
   ]
  },
  {
   "cell_type": "markdown",
   "id": "632705e1",
   "metadata": {
    "papermill": {
     "duration": 0.129738,
     "end_time": "2022-07-01T13:23:26.886181",
     "exception": false,
     "start_time": "2022-07-01T13:23:26.756443",
     "status": "completed"
    },
    "tags": []
   },
   "source": [
    "# Submission\n",
    "## Finally we predict over unseen dataset using the Logistic Regression and Random Forest model (**Ensemble Learning**)"
   ]
  },
  {
   "cell_type": "code",
   "execution_count": null,
   "id": "c83efe02",
   "metadata": {
    "execution": {
     "iopub.execute_input": "2022-07-01T13:23:27.150997Z",
     "iopub.status.busy": "2022-07-01T13:23:27.149987Z",
     "iopub.status.idle": "2022-07-01T13:23:27.155983Z",
     "shell.execute_reply": "2022-07-01T13:23:27.156551Z",
     "shell.execute_reply.started": "2022-07-01T05:41:26.59321Z"
    },
    "papermill": {
     "duration": 0.139234,
     "end_time": "2022-07-01T13:23:27.156746",
     "exception": false,
     "start_time": "2022-07-01T13:23:27.017512",
     "status": "completed"
    },
    "tags": []
   },
   "outputs": [],
   "source": [
    "df_test = test.drop(['Loan_ID'], axis = 1)"
   ]
  },
  {
   "cell_type": "code",
   "execution_count": null,
   "id": "9a0ad330",
   "metadata": {
    "execution": {
     "iopub.execute_input": "2022-07-01T13:23:27.423773Z",
     "iopub.status.busy": "2022-07-01T13:23:27.422791Z",
     "iopub.status.idle": "2022-07-01T13:23:27.435873Z",
     "shell.execute_reply": "2022-07-01T13:23:27.436502Z",
     "shell.execute_reply.started": "2022-07-01T05:41:26.601146Z"
    },
    "papermill": {
     "duration": 0.148182,
     "end_time": "2022-07-01T13:23:27.436680",
     "exception": false,
     "start_time": "2022-07-01T13:23:27.288498",
     "status": "completed"
    },
    "tags": []
   },
   "outputs": [
    {
     "data": {
      "text/html": [
       "<div>\n",
       "<style scoped>\n",
       "    .dataframe tbody tr th:only-of-type {\n",
       "        vertical-align: middle;\n",
       "    }\n",
       "\n",
       "    .dataframe tbody tr th {\n",
       "        vertical-align: top;\n",
       "    }\n",
       "\n",
       "    .dataframe thead th {\n",
       "        text-align: right;\n",
       "    }\n",
       "</style>\n",
       "<table border=\"1\" class=\"dataframe\">\n",
       "  <thead>\n",
       "    <tr style=\"text-align: right;\">\n",
       "      <th></th>\n",
       "      <th>Dependents</th>\n",
       "      <th>Education</th>\n",
       "      <th>ApplicantIncome</th>\n",
       "      <th>CoapplicantIncome</th>\n",
       "      <th>LoanAmount</th>\n",
       "      <th>Credit_History</th>\n",
       "      <th>Property_Area</th>\n",
       "      <th>Male</th>\n",
       "      <th>employed_Yes</th>\n",
       "      <th>married_Yes</th>\n",
       "    </tr>\n",
       "  </thead>\n",
       "  <tbody>\n",
       "    <tr>\n",
       "      <th>0</th>\n",
       "      <td>0</td>\n",
       "      <td>0</td>\n",
       "      <td>5720</td>\n",
       "      <td>0</td>\n",
       "      <td>110</td>\n",
       "      <td>1.0</td>\n",
       "      <td>0</td>\n",
       "      <td>1</td>\n",
       "      <td>0</td>\n",
       "      <td>1</td>\n",
       "    </tr>\n",
       "    <tr>\n",
       "      <th>1</th>\n",
       "      <td>1</td>\n",
       "      <td>0</td>\n",
       "      <td>3076</td>\n",
       "      <td>1500</td>\n",
       "      <td>126</td>\n",
       "      <td>1.0</td>\n",
       "      <td>0</td>\n",
       "      <td>1</td>\n",
       "      <td>0</td>\n",
       "      <td>1</td>\n",
       "    </tr>\n",
       "    <tr>\n",
       "      <th>2</th>\n",
       "      <td>2</td>\n",
       "      <td>0</td>\n",
       "      <td>5000</td>\n",
       "      <td>1800</td>\n",
       "      <td>208</td>\n",
       "      <td>1.0</td>\n",
       "      <td>0</td>\n",
       "      <td>1</td>\n",
       "      <td>0</td>\n",
       "      <td>1</td>\n",
       "    </tr>\n",
       "    <tr>\n",
       "      <th>3</th>\n",
       "      <td>2</td>\n",
       "      <td>0</td>\n",
       "      <td>2340</td>\n",
       "      <td>2546</td>\n",
       "      <td>100</td>\n",
       "      <td>1.0</td>\n",
       "      <td>0</td>\n",
       "      <td>1</td>\n",
       "      <td>0</td>\n",
       "      <td>1</td>\n",
       "    </tr>\n",
       "    <tr>\n",
       "      <th>4</th>\n",
       "      <td>0</td>\n",
       "      <td>1</td>\n",
       "      <td>3276</td>\n",
       "      <td>0</td>\n",
       "      <td>78</td>\n",
       "      <td>1.0</td>\n",
       "      <td>0</td>\n",
       "      <td>1</td>\n",
       "      <td>0</td>\n",
       "      <td>0</td>\n",
       "    </tr>\n",
       "  </tbody>\n",
       "</table>\n",
       "</div>"
      ],
      "text/plain": [
       "   Dependents  Education  ApplicantIncome  CoapplicantIncome  LoanAmount  \\\n",
       "0           0          0             5720                  0         110   \n",
       "1           1          0             3076               1500         126   \n",
       "2           2          0             5000               1800         208   \n",
       "3           2          0             2340               2546         100   \n",
       "4           0          1             3276                  0          78   \n",
       "\n",
       "   Credit_History  Property_Area  Male  employed_Yes  married_Yes  \n",
       "0             1.0              0     1             0            1  \n",
       "1             1.0              0     1             0            1  \n",
       "2             1.0              0     1             0            1  \n",
       "3             1.0              0     1             0            1  \n",
       "4             1.0              0     1             0            0  "
      ]
     },
     "execution_count": 56,
     "metadata": {},
     "output_type": "execute_result"
    }
   ],
   "source": [
    "df_test.head()"
   ]
  },
  {
   "cell_type": "code",
   "execution_count": null,
   "id": "186ea9a8",
   "metadata": {
    "execution": {
     "iopub.execute_input": "2022-07-01T13:23:27.757367Z",
     "iopub.status.busy": "2022-07-01T13:23:27.756421Z",
     "iopub.status.idle": "2022-07-01T13:23:27.762475Z",
     "shell.execute_reply": "2022-07-01T13:23:27.763048Z",
     "shell.execute_reply.started": "2022-07-01T05:41:26.622562Z"
    },
    "papermill": {
     "duration": 0.135192,
     "end_time": "2022-07-01T13:23:27.763221",
     "exception": false,
     "start_time": "2022-07-01T13:23:27.628029",
     "status": "completed"
    },
    "scrolled": true,
    "tags": []
   },
   "outputs": [],
   "source": [
    "p_log = logmodel.predict(df_test)"
   ]
  },
  {
   "cell_type": "code",
   "execution_count": null,
   "id": "38186047",
   "metadata": {
    "execution": {
     "iopub.execute_input": "2022-07-01T13:23:28.024004Z",
     "iopub.status.busy": "2022-07-01T13:23:28.022956Z",
     "iopub.status.idle": "2022-07-01T13:23:28.042829Z",
     "shell.execute_reply": "2022-07-01T13:23:28.043386Z",
     "shell.execute_reply.started": "2022-07-01T05:41:26.630028Z"
    },
    "papermill": {
     "duration": 0.153198,
     "end_time": "2022-07-01T13:23:28.043566",
     "exception": false,
     "start_time": "2022-07-01T13:23:27.890368",
     "status": "completed"
    },
    "tags": []
   },
   "outputs": [],
   "source": [
    "p_rf = random_forest.predict(df_test)"
   ]
  },
  {
   "cell_type": "code",
   "execution_count": null,
   "id": "104a4a13",
   "metadata": {
    "execution": {
     "iopub.execute_input": "2022-07-01T13:23:28.299859Z",
     "iopub.status.busy": "2022-07-01T13:23:28.298884Z",
     "iopub.status.idle": "2022-07-01T13:23:28.304730Z",
     "shell.execute_reply": "2022-07-01T13:23:28.305282Z",
     "shell.execute_reply.started": "2022-07-01T05:41:26.661954Z"
    },
    "papermill": {
     "duration": 0.135879,
     "end_time": "2022-07-01T13:23:28.305473",
     "exception": false,
     "start_time": "2022-07-01T13:23:28.169594",
     "status": "completed"
    },
    "tags": []
   },
   "outputs": [],
   "source": [
    "predict_combine = np.zeros((df_test.shape[0]))\n",
    "\n",
    "for i in range(0, test.shape[0]):\n",
    "    temp = p_log[i] + p_rf[i]\n",
    "    if temp>=2:\n",
    "        predict_combine[i] = 1\n",
    "predict_combine = predict_combine.astype('int')"
   ]
  },
  {
   "cell_type": "code",
   "execution_count": null,
   "id": "9af18808",
   "metadata": {
    "execution": {
     "iopub.execute_input": "2022-07-01T13:23:28.565870Z",
     "iopub.status.busy": "2022-07-01T13:23:28.564834Z",
     "iopub.status.idle": "2022-07-01T13:23:28.574474Z",
     "shell.execute_reply": "2022-07-01T13:23:28.575085Z",
     "shell.execute_reply.started": "2022-07-01T05:41:26.670503Z"
    },
    "papermill": {
     "duration": 0.14014,
     "end_time": "2022-07-01T13:23:28.575273",
     "exception": false,
     "start_time": "2022-07-01T13:23:28.435133",
     "status": "completed"
    },
    "tags": []
   },
   "outputs": [],
   "source": [
    "submission = pd.DataFrame({\n",
    "        \"Loan_ID\": test[\"Loan_ID\"],\n",
    "        \"Loan_Status\": predict_combine\n",
    "    })\n",
    "\n",
    "submission.to_csv(\"results.csv\", encoding='utf-8', index=False)\n"
   ]
  }
 ],
 "metadata": {
  "kernelspec": {
   "display_name": "Python 3.10.8 64-bit",
   "language": "python",
   "name": "python3"
  },
  "language_info": {
   "codemirror_mode": {
    "name": "ipython",
    "version": 3
   },
   "file_extension": ".py",
   "mimetype": "text/x-python",
   "name": "python",
   "nbconvert_exporter": "python",
   "pygments_lexer": "ipython3",
   "version": "3.10.8"
  },
  "papermill": {
   "default_parameters": {},
   "duration": 45.406826,
   "end_time": "2022-07-01T13:23:29.510939",
   "environment_variables": {},
   "exception": null,
   "input_path": "__notebook__.ipynb",
   "output_path": "__notebook__.ipynb",
   "parameters": {},
   "start_time": "2022-07-01T13:22:44.104113",
   "version": "2.3.3"
  },
  "vscode": {
   "interpreter": {
    "hash": "369f2c481f4da34e4445cda3fffd2e751bd1c4d706f27375911949ba6bb62e1c"
   }
  }
 },
 "nbformat": 4,
 "nbformat_minor": 5
}
